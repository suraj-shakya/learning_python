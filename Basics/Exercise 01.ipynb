{
 "cells": [
  {
   "cell_type": "markdown",
   "metadata": {},
   "source": [
    "# Exercises 01\n",
    "\n",
    "1. **Upper case each of the word's first letter of**  \n",
    "    ```If the implementation is easy to explain, it may be a good idea.```  \n",
    "   Hints: \n",
    "   - split()\n",
    "   - list indexing\n",
    "   - for loop  \n",
    "   ***Note: There are better ways too.***  \n",
    "2. **Create a dictionary that will give return first 10 multiplication table from 11 to 20.**\n",
    "   - User will input a number from 11 to 20 \n",
    "   - Display first 10 multiplication table for the provided number\n",
    "   - **dictionary must be used**  \n",
    "   example of dictionary could be :  \n",
    "   ```\n",
    "   multiplication_table = {\n",
    "                           \"2\" : { \n",
    "                                   \"2 X 1\" : 2, \n",
    "                                   \"2 X 2\" : 4,\n",
    "                                   \"2 X 3\" : 6,\n",
    "                                   \"2 X 4\" : 8,\n",
    "                                   \"2 X 5\" : 10,\n",
    "                                   \"2 X 6\" : 12,\n",
    "                                   \"2 X 7\" : 14,\n",
    "                                   \"2 X 8\" : 16,\n",
    "                                   \"2 X 9\" : 18,\n",
    "                                   \"2 X 10\" : 20,\n",
    "                                  },\n",
    "                            \"3\" :{\n",
    "                                   .\n",
    "                                   .\n",
    "                                   .\n",
    "                                 }\n",
    "                          }\n",
    "   ```  \n",
    "   or  \n",
    "   ```\n",
    "   multiplication_table = {\n",
    "                           \"2\" : { \n",
    "                                   \"1\" : 2, \n",
    "                                   \"2\" : 4,\n",
    "                                   \"3\" : 6,\n",
    "                                   \"4\" : 8,\n",
    "                                   \"5\" : 10,\n",
    "                                   \"6\" : 12,\n",
    "                                   \"7\" : 14,\n",
    "                                   \"8\" : 16,\n",
    "                                   \"9\" : 18,\n",
    "                                   \"10\" : 20,\n",
    "                                  },\n",
    "                            \"3\" :{\n",
    "                                   .\n",
    "                                   .\n",
    "                                   .\n",
    "                                 }\n",
    "                          }\n",
    "   ```\n",
    "   and use string format for display\n",
    "\n",
    "3. **Predict expressions**\n",
    "   - Valid Numbers : even numbers < 20\n",
    "   - Operators : +, -\n",
    "   - Result : 10  \n",
    "   Fill in the expression below and output the expression that will result 10: \n",
    "   x1 o1 x2  \n",
    "   where\n",
    "   x1 = first number\n",
    "   x2 = second number\n",
    "   o1 = operator\n",
    "   eg : \n",
    "   20 + 20 = 40 \n",
    "   Hints : \n",
    "   - eval () : \n",
    "    eval(source, globals=None, locals=None, /)\n",
    "     Evaluate the given source in the context of globals and locals.\n",
    "    \n",
    "    The source may be a string representing a Python expression\n",
    "    or a code object as returned by compile().\n",
    "    The globals must be a dictionary and locals can be any mapping,\n",
    "    defaulting to the current globals and locals.\n",
    "    If only globals is given, locals defaults to it.\n",
    "    eg: eval('10+2')\n",
    "   \n",
    "   - Use nested for loops\n",
    "   - use data type list"
   ]
  },
  {
   "cell_type": "code",
   "execution_count": 21,
   "metadata": {
    "scrolled": false
   },
   "outputs": [
    {
     "data": {
      "text/plain": [
       "'If The Implementation Is Easy To Explain, It May Be A Good Idea.'"
      ]
     },
     "execution_count": 21,
     "metadata": {},
     "output_type": "execute_result"
    }
   ],
   "source": [
    "#1 Solution\n",
    "var = \"If the implementation is easy to explain, it may be a good idea.\"\n",
    "var.title()\n"
   ]
  },
  {
   "cell_type": "code",
   "execution_count": 22,
   "metadata": {},
   "outputs": [
    {
     "name": "stdout",
     "output_type": "stream",
     "text": [
      "{11: {1: 11, 2: 22, 3: 33, 4: 44, 5: 55, 6: 66, 7: 77, 8: 88, 9: 99, 10: 110}, 12: {1: 12, 2: 24, 3: 36, 4: 48, 5: 60, 6: 72, 7: 84, 8: 96, 9: 108, 10: 120}, 13: {1: 13, 2: 26, 3: 39, 4: 52, 5: 65, 6: 78, 7: 91, 8: 104, 9: 117, 10: 130}, 14: {1: 14, 2: 28, 3: 42, 4: 56, 5: 70, 6: 84, 7: 98, 8: 112, 9: 126, 10: 140}, 15: {1: 15, 2: 30, 3: 45, 4: 60, 5: 75, 6: 90, 7: 105, 8: 120, 9: 135, 10: 150}, 16: {1: 16, 2: 32, 3: 48, 4: 64, 5: 80, 6: 96, 7: 112, 8: 128, 9: 144, 10: 160}, 17: {1: 17, 2: 34, 3: 51, 4: 68, 5: 85, 6: 102, 7: 119, 8: 136, 9: 153, 10: 170}, 18: {1: 18, 2: 36, 3: 54, 4: 72, 5: 90, 6: 108, 7: 126, 8: 144, 9: 162, 10: 180}, 19: {1: 19, 2: 38, 3: 57, 4: 76, 5: 95, 6: 114, 7: 133, 8: 152, 9: 171, 10: 190}, 20: {1: 20, 2: 40, 3: 60, 4: 80, 5: 100, 6: 120, 7: 140, 8: 160, 9: 180, 10: 200}}\n",
      "please enter a number from 11 to 20 : 18\n",
      "First 10 multiplication table of 18 : \n",
      "18*1=18\n",
      "18*2=36\n",
      "18*3=54\n",
      "18*4=72\n",
      "18*5=90\n",
      "18*6=108\n",
      "18*7=126\n",
      "18*8=144\n",
      "18*9=162\n",
      "18*10=180\n"
     ]
    }
   ],
   "source": [
    "#2 Solution\n",
    "multiplication_table = dict()\n",
    "fnum = 11 \n",
    "tnum = 20 \n",
    "first = 10\n",
    "for i in range(fnum, tnum+1):\n",
    "    multiplication_table[i]= {}\n",
    "    for j in range(1,first+1):\n",
    "        multiplication_table[i][j] = i*j\n",
    "\n",
    "\n",
    "inputnum = int(input(\"please enter a number from {fnum} to {tnum} : \".format(fnum=fnum, tnum = tnum)))\n",
    "\n",
    "if inputnum in range(fnum, tnum+1):\n",
    "    print(\"First {first} multiplication table of {num} : \".format(first=first, num = inputnum))\n",
    "    for k,v in multiplication_table[inputnum].items():\n",
    "        print(\"{num1}*{num2}={result}\".format(num1=inputnum,num2=k,result=v ))\n",
    "else:\n",
    "    print(\"number should be between {fnum} and {tnum} \".format(fnum=fnum, tnum = tnum))"
   ]
  },
  {
   "cell_type": "code",
   "execution_count": 23,
   "metadata": {},
   "outputs": [
    {
     "name": "stdout",
     "output_type": "stream",
     "text": [
      "[2, 4, 6, 8, 10, 12, 14, 16, 18]\n",
      "2+8 = 10\n",
      "4+6 = 10\n",
      "6+4 = 10\n",
      "8+2 = 10\n",
      "12-2 = 10\n",
      "14-4 = 10\n",
      "16-6 = 10\n",
      "18-8 = 10\n"
     ]
    }
   ],
   "source": [
    "#3 Solution\n",
    "operator = [\"+\",\"-\"]\n",
    "evennumber = list()\n",
    "maxnum = 20\n",
    "result = 10\n",
    "expression = list()\n",
    "\n",
    "for i in range(1,maxnum):\n",
    "    if i%2 == 0: \n",
    "        evennumber.append(i)\n",
    "print(evennumber)        \n",
    "\n",
    "for i in evennumber:\n",
    "    for o in operator:\n",
    "        for j in evennumber:\n",
    "            exp = \"{num1}{op}{num2}\".format(num1=i,op = o ,num2 = j)\n",
    "            if(eval(exp)==result):\n",
    "                expression.append(\"{exp} = {r}\".format(exp=exp,r=eval(exp)))\n",
    "\n",
    "for ex in expression:\n",
    "    print(ex)"
   ]
  }
 ],
 "metadata": {
  "kernelspec": {
   "display_name": "Python 3",
   "language": "python",
   "name": "python3"
  },
  "language_info": {
   "codemirror_mode": {
    "name": "ipython",
    "version": 3
   },
   "file_extension": ".py",
   "mimetype": "text/x-python",
   "name": "python",
   "nbconvert_exporter": "python",
   "pygments_lexer": "ipython3",
   "version": "3.8.2"
  }
 },
 "nbformat": 4,
 "nbformat_minor": 4
}
