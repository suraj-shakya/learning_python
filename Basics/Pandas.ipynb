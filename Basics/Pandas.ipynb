{
 "cells": [
  {
   "cell_type": "markdown",
   "metadata": {},
   "source": [
    "# Pandas\n",
    "---\n",
    "\n",
    "> **Pandas** is an open-source Python Library providing high-performance data manipulation and analysis tool using its powerful data structures. The name Pandas is derived from the word Panel Data – an Econometrics from Multidimensional data.  \n",
    "Using Pandas, we can accomplish five typical steps in the processing and analysis of data, regardless of the origin of data : \n",
    "1. load\n",
    "2. prepare \n",
    "3. manipulate\n",
    "4. model\n",
    "5. analyze\n",
    "\n",
    "\n",
    "## Key Features of Pandas\n",
    "---\n",
    "- Fast and efficient DataFrame object with default and customized indexing.\n",
    "- Tools for loading data into in-memory data objects from different file formats.\n",
    "- Data alignment and integrated handling of missing data.\n",
    "- Reshaping and pivoting of date sets.\n",
    "- Label-based slicing, indexing and subsetting of large data sets.\n",
    "- Columns from a data structure can be deleted or inserted.\n",
    "- Group by data for aggregation and transformations.\n",
    "- High performance merging and joining of data.\n",
    "- Time Series functionality.\n",
    "\n",
    "## Installation\n",
    "---\n",
    "Using PIP ( Python Package Manager ) \n",
    "```pip install pandas```  \n",
    "*If using winpython no need to install pandas*\n",
    "\n",
    "\n",
    "## Data Structures in Pandas\n",
    "---\n",
    "Pandas deals with the following three data structures, which are built on top of Numpy array −  \n",
    "\n",
    "| SN | Data Structure | Dimension | Description |\n",
    "|:----:|:----------------:|:-----------:|:-------------|\n",
    "| 1  | Series         |     1     | 1D, Homogeneous Data, Size Immutable, Values of Data Mutable|\n",
    "| 2  | Data Frame     |     2     | 2D, Heterogeneous data, Size Mutable, Data Mutable |\n",
    "| 3  | Panel          |     3     | 3D, Heterogeneous data, Size Mutable, Data Mutable |\n",
    "\n"
   ]
  },
  {
   "cell_type": "markdown",
   "metadata": {},
   "source": [
    "### Series \n",
    "---\n",
    "- 1D Array\n",
    "- Values can be any of the types : integer, string, float, python objects, etc.\n",
    "- Is indexed\n",
    "\n",
    "#### Creating a series\n",
    "--- \n",
    "``` pandas.series(data, index, dtype, copy) ```  \n",
    "where\n",
    "- data : data takes various forms like ndarray, list, constants\n",
    "- index : Index values must be unique and hashable, same length as data. Default np.arrange(n) if no index is passed.\n",
    "- dtype : dtype is for data type. If None, data type will be inferred\n",
    "- copy : Copy data. Default False"
   ]
  },
  {
   "cell_type": "code",
   "execution_count": 25,
   "metadata": {},
   "outputs": [
    {
     "name": "stdout",
     "output_type": "stream",
     "text": [
      "4308745190999692981\n",
      "4308745190999692981\n"
     ]
    }
   ],
   "source": [
    "## Hashable example\n",
    "## All immutable built-in objects in python are hashable. \n",
    "## Mutable containers like lists and dictionaries are not hashable while immutable container tuple is hashable\n",
    "print(\"String\".__hash__())\n",
    "print(\"String\".__hash__())\n",
    "lst = [\"String\",1]\n",
    "type(lst)\n",
    "lst.__hash__?"
   ]
  },
  {
   "cell_type": "code",
   "execution_count": 26,
   "metadata": {},
   "outputs": [],
   "source": [
    "#Import \n",
    "import pandas as pd\n",
    "import numpy as np"
   ]
  },
  {
   "cell_type": "markdown",
   "metadata": {},
   "source": [
    "### Create an Empty Series"
   ]
  },
  {
   "cell_type": "code",
   "execution_count": 27,
   "metadata": {},
   "outputs": [
    {
     "name": "stdout",
     "output_type": "stream",
     "text": [
      "Series([], dtype: float64)\n"
     ]
    },
    {
     "name": "stderr",
     "output_type": "stream",
     "text": [
      "<ipython-input-27-893de6a9497a>:1: DeprecationWarning: The default dtype for empty Series will be 'object' instead of 'float64' in a future version. Specify a dtype explicitly to silence this warning.\n",
      "  s = pd.Series()\n"
     ]
    }
   ],
   "source": [
    "s = pd.Series()\n",
    "print(s)"
   ]
  },
  {
   "cell_type": "markdown",
   "metadata": {},
   "source": [
    "### Create a Series from ndarray \n",
    "If data is an ndarray, then index passed must be of the same length. If no index is passed, then by default index will be range(n) where n is array length, i.e., [0,1,2,3…. range(len(array))-1]."
   ]
  },
  {
   "cell_type": "code",
   "execution_count": 38,
   "metadata": {},
   "outputs": [
    {
     "name": "stdout",
     "output_type": "stream",
     "text": [
      "['P' 'A' 'N' 'D' 'A' 'S']\n",
      "\n",
      "--------------\n",
      "0    P\n",
      "1    A\n",
      "2    N\n",
      "3    D\n",
      "4    A\n",
      "5    S\n",
      "dtype: object\n"
     ]
    },
    {
     "data": {
      "text/plain": [
       "pandas.core.series.Series"
      ]
     },
     "execution_count": 38,
     "metadata": {},
     "output_type": "execute_result"
    }
   ],
   "source": [
    "#create series \n",
    "data = np.array(list(\"PANDAS\"))\n",
    "print(data, end = \"\\n\\n--------------\\n\")\n",
    "s = pd.Series(data)\n",
    "print(s)\n",
    "type(s)"
   ]
  },
  {
   "cell_type": "code",
   "execution_count": 39,
   "metadata": {},
   "outputs": [
    {
     "name": "stdout",
     "output_type": "stream",
     "text": [
      "P    P\n",
      "A    A\n",
      "N    N\n",
      "D    D\n",
      "A    A\n",
      "S    S\n",
      "dtype: object\n"
     ]
    }
   ],
   "source": [
    "# create series by explicitly specifying index\n",
    "si = pd.Series(data, index=data)\n",
    "print(si)"
   ]
  },
  {
   "cell_type": "markdown",
   "metadata": {},
   "source": [
    "### Create a series from dictionary"
   ]
  },
  {
   "cell_type": "code",
   "execution_count": 41,
   "metadata": {},
   "outputs": [
    {
     "name": "stdout",
     "output_type": "stream",
     "text": [
      "param1    param1 value\n",
      "param2    param2 Value\n",
      "param3    param3 Value\n",
      "dtype: object\n"
     ]
    }
   ],
   "source": [
    "data_dict = {'param1' : \"param1 value\", 'param2' : \"param2 Value\", 'param3' : \"param3 Value\"}\n",
    "sd = pd.Series(data_dict)\n",
    "print(sd)\n",
    "# Note the index is keys when not specified"
   ]
  },
  {
   "cell_type": "markdown",
   "metadata": {},
   "source": [
    "### Create a Series from Scalar"
   ]
  },
  {
   "cell_type": "code",
   "execution_count": 42,
   "metadata": {},
   "outputs": [
    {
     "name": "stdout",
     "output_type": "stream",
     "text": [
      "0    5\n",
      "1    5\n",
      "2    5\n",
      "3    5\n",
      "dtype: int64\n"
     ]
    }
   ],
   "source": [
    "ss = pd.Series(5, index=[0, 1, 2, 3])\n",
    "print(ss)"
   ]
  },
  {
   "cell_type": "markdown",
   "metadata": {},
   "source": [
    "### Accessing Data from Series with Position"
   ]
  },
  {
   "cell_type": "code",
   "execution_count": 53,
   "metadata": {},
   "outputs": [
    {
     "name": "stdout",
     "output_type": "stream",
     "text": [
      "0    P\n",
      "1    A\n",
      "2    N\n",
      "3    D\n",
      "4    A\n",
      "5    S\n",
      "dtype: object\n",
      "Get First Item : s[0] => \n",
      " P\n",
      "Get First 3 Items : s[:3] => \n",
      " 0    P\n",
      "1    A\n",
      "2    N\n",
      "dtype: object\n",
      "Get Last 3 Items : s[-3:] => \n",
      " 3    D\n",
      "4    A\n",
      "5    S\n",
      "dtype: object\n"
     ]
    }
   ],
   "source": [
    "print(s)\n",
    "print(\"Get First Item : s[0] => \\n\",s[0])\n",
    "print(\"Get First 3 Items : s[:3] => \\n\",s[:3])\n",
    "print(\"Get Last 3 Items : s[-3:] => \\n\",s[-3:])\n"
   ]
  },
  {
   "cell_type": "markdown",
   "metadata": {},
   "source": [
    "### Retrieve Data Using Label (Index)"
   ]
  },
  {
   "cell_type": "code",
   "execution_count": 54,
   "metadata": {},
   "outputs": [
    {
     "name": "stdout",
     "output_type": "stream",
     "text": [
      "P    P\n",
      "A    A\n",
      "N    N\n",
      "D    D\n",
      "A    A\n",
      "S    S\n",
      "dtype: object\n"
     ]
    }
   ],
   "source": [
    "print(si)"
   ]
  },
  {
   "cell_type": "code",
   "execution_count": 57,
   "metadata": {},
   "outputs": [
    {
     "data": {
      "text/plain": [
       "A    A\n",
       "A    A\n",
       "P    P\n",
       "dtype: object"
      ]
     },
     "execution_count": 57,
     "metadata": {},
     "output_type": "execute_result"
    }
   ],
   "source": [
    "si[['A','P']]"
   ]
  }
 ],
 "metadata": {
  "kernelspec": {
   "display_name": "Python 3",
   "language": "python",
   "name": "python3"
  },
  "language_info": {
   "codemirror_mode": {
    "name": "ipython",
    "version": 3
   },
   "file_extension": ".py",
   "mimetype": "text/x-python",
   "name": "python",
   "nbconvert_exporter": "python",
   "pygments_lexer": "ipython3",
   "version": "3.8.2"
  }
 },
 "nbformat": 4,
 "nbformat_minor": 4
}
