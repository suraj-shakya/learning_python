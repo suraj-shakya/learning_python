{
 "cells": [
  {
   "cell_type": "markdown",
   "metadata": {},
   "source": [
    "# Operators in Python\n",
    "\n",
    "- Operators enables creation of expression. \n",
    "- Executing expressions gives us results\n",
    "- Expression refers to various operations on variables and values\n",
    "\n",
    "There are following categories of operators:\n",
    "\n",
    "- Arithmetic operators\n",
    "- Assignment operators\n",
    "- Comparison operators\n",
    "- Logical operators\n",
    "- Identity operators\n",
    "- Membership operators\n",
    "- Bitwise operators"
   ]
  },
  {
   "cell_type": "code",
   "execution_count": 6,
   "metadata": {},
   "outputs": [
    {
     "name": "stdout",
     "output_type": "stream",
     "text": [
      "3\n",
      "-1\n",
      "63\n",
      "5.0\n",
      "1\n",
      "1024\n",
      "3\n"
     ]
    }
   ],
   "source": [
    "# Arithmetic Operators\n",
    "\n",
    "#Addition\n",
    "print(1+2)\n",
    "\n",
    "#subtraction\n",
    "print(1-2)\n",
    "\n",
    "#Multiplication\n",
    "print(9*7)\n",
    "\n",
    "#Division\n",
    "print(10/2)\n",
    "\n",
    "#Modulus\n",
    "print(5%2)\n",
    "\n",
    "#Exponentiation\n",
    "print(2**10)\n",
    "\n",
    "#Floor Division\n",
    "print(17//5)"
   ]
  },
  {
   "cell_type": "markdown",
   "metadata": {},
   "source": [
    "## Assignment operators\n",
    "> Basically assigment operator uses equals to operator ( = ). In addition to that we can add other operators ( arithmetic and bitwise operators ) and equals to operator for other operation and assigment operation.\n"
   ]
  },
  {
   "cell_type": "code",
   "execution_count": 7,
   "metadata": {},
   "outputs": [
    {
     "name": "stdout",
     "output_type": "stream",
     "text": [
      "20\n",
      "30\n"
     ]
    }
   ],
   "source": [
    "#Normal Assignment operation\n",
    "a = 10 \n",
    "b = 20\n",
    "\n",
    "#addition and assignment operation\n",
    "a += b\n",
    "#a = a + b\n",
    "print(b)\n",
    "print(a)"
   ]
  },
  {
   "cell_type": "markdown",
   "metadata": {},
   "source": [
    "## Comparison Operator\n",
    "\n",
    "Comparison operators help in comparing two values and return boolean value ( True or False ). Multiple values can be comared using the logical operator in conjunction.\n",
    "\n",
    "|Operator | Description | Example | \n",
    "|---------|-------------|---------|\n",
    "| ==\t  | Equal\t    | x == y |\t\n",
    "| !=\t  | Not equal\t| x != y |\t\n",
    "| >\t      | Greater than| x > y |\t\n",
    "| <\t      | Less than\t| x < y\t|\n",
    "| >=\t  | Greater than or equal to\t| x >= y |\t\n",
    "| <=\t  | Less than or equal to\t| x <= y |"
   ]
  },
  {
   "cell_type": "markdown",
   "metadata": {},
   "source": [
    "## Logical Operator\n",
    "|Operator | Description\t                                           | Example               |\n",
    "|---------|--------------------------------------------------------|-----------------------|\n",
    "|and \t  |Returns True if both statements are true\t               |x < 5 and  x < 10\t   |\n",
    "|or\t      |Returns True if one of the statements is true\t       |x < 5 or x < 4\t       |\n",
    "|not\t  |Reverse the result, returns False if the result is true |not(x < 5 and x < 10)  |"
   ]
  }
 ],
 "metadata": {
  "kernelspec": {
   "display_name": "Python 3",
   "language": "python",
   "name": "python3"
  },
  "language_info": {
   "codemirror_mode": {
    "name": "ipython",
    "version": 3
   },
   "file_extension": ".py",
   "mimetype": "text/x-python",
   "name": "python",
   "nbconvert_exporter": "python",
   "pygments_lexer": "ipython3",
   "version": "3.8.2"
  }
 },
 "nbformat": 4,
 "nbformat_minor": 4
}
