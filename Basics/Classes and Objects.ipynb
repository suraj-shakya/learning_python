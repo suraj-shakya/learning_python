{
 "cells": [
  {
   "cell_type": "markdown",
   "metadata": {},
   "source": [
    "# Python Classes and Objects\n",
    "---\n",
    "\n",
    "## Class \n",
    "---\n",
    "- User-defined data structure \n",
    "- For example, a Vehicle() class can have properties like engines, wheels, etc\n",
    "- **Note** - Class is just a blueprint, has no state\n",
    "\n",
    "## Object\n",
    "---\n",
    "- Class is a blueprint and Objects ( Instance ) is a variable of specified class/type with real values\n",
    "- Like Car, Motorcycle can be object of class Vehicle with its specific properties and functions\n",
    "\n",
    "\n",
    "### Defining a class\n",
    "---\n",
    "```\n",
    "class ClassName:\n",
    "    <class body>\n",
    "    def __init__(self,<arguments>):\n",
    "        <constructor functions>\n",
    "\n",
    "```"
   ]
  },
  {
   "cell_type": "code",
   "execution_count": null,
   "metadata": {},
   "outputs": [],
   "source": []
  }
 ],
 "metadata": {
  "kernelspec": {
   "display_name": "Python 3",
   "language": "python",
   "name": "python3"
  },
  "language_info": {
   "codemirror_mode": {
    "name": "ipython",
    "version": 3
   },
   "file_extension": ".py",
   "mimetype": "text/x-python",
   "name": "python",
   "nbconvert_exporter": "python",
   "pygments_lexer": "ipython3",
   "version": "3.8.2"
  }
 },
 "nbformat": 4,
 "nbformat_minor": 4
}
