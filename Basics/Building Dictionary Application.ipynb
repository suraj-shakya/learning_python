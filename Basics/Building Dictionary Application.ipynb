{
 "cells": [
  {
   "cell_type": "code",
   "execution_count": 1,
   "metadata": {},
   "outputs": [
    {
     "name": "stdout",
     "output_type": "stream",
     "text": [
      "Search meaning of word : book\n",
      "1. A collection of sheets of paper, or similar material, blank, written, or printed, bound together; commonly, many folded and bound sheets containing continuous printing or writing. Note: When blank, it is called a blank book. When printed, the term often distinguishes a bound volume, or a volume of some size, from a pamphlet. Note: It has been held that, under the copyright law, a book is not necessarily a volume made of many sheets bound together; it may be printed on a single sheet, as music or a diagram of patterns. Abbott. 2. A composition, written or printed; a treatise. A good book is the precious life blood of a master spirit, embalmed and treasured up on purpose to a life beyond life. Milton. 3. A part or subdivision of a treatise or literary work; as, the tenth book of \"Paradise Lost.\" 4. A volume or collection of sheets in which accounts are kept; a register of debts and credits, receipts and expenditures, etc. 5. Six tricks taken by one side, in the game of whist; in certain other games, two or more corresponding cards, forming a set. Note: Book is used adjectively or as a part of many compounds; as, book buyer, bookrack, book club, book lore, book sale, book trade, memorandum book, cashbook. Book account, an account or register of debt or credit in a book. -- Book debt, a debt for items charged to the debtor by the creditor in his book of accounts. -- Book learning, learning acquired from books, as distinguished from practical knowledge. \"Neither does it so much require book learning and scholarship, as good natural sense, to distinguish true and false.\" Burnet. -- Book louse (ZoÃ¶l.), one of several species of minute, wingless insects injurious to books and papers. They belong to the Pseudoneuroptera. -- Book moth (ZoÃ¶l.), the name of several species of moths, the larvÃ¦ of which eat books. -- Book oath, an oath made on The Book, or Bible. -- The Book of Books, the Bible. -- Book post, a system under which books, bulky manuscripts, etc., may be transmitted by mail. -- Book scorpion (ZoÃ¶l.), one of the false scorpions (Chelifer cancroides) found among books and papers. It can run sidewise and backward, and feeds on small insects. -- Book stall, a stand or stall, often in the open air, for retailing books. -- Canonical books. See Canonical. -- In one's books, in one's favor. \"I was so much in his books, that at his decease he left me his lamp.\" Addison. -- To bring to book. (a) To compel to give an account. (b) To compare with an admitted authority. \"To bring it manifestly to book is impossible.\" M. Arnold. -- To course by bell, book, and candle. See under Bell. -- To make a book (Horse Racing), to lay bets (recorded in a pocket book) against the success of every horse, so that the bookmaker wins on all the unsuccessful horses and loses only on the winning horse or horses. -- To speak by the book, to speak with minute exactness. -- Without book. (a) By memory. (b) Without authority.\n",
      "\n",
      "1. To enter, write, or register in a book or list. Let it be booked with the rest of this day's deeds. Shak. 2. To enter the name of (any one) in a book for the purpose of securing a passage, conveyance, or seat; as, to be booked for Southampton; to book a seat in a theater. 3. To mark out for; to destine or assign for; as, he is booked for the valedictory. [Colloq.] Here I am booked for three days more in Paris. Charles Reade.\n"
     ]
    }
   ],
   "source": [
    "#Example:\n",
    "import json\n",
    "\n",
    "# json file downloaded from https://raw.githubusercontent.com/matthewreagan/WebstersEnglishDictionary/master/dictionary.json\n",
    "# load the json data into python object\n",
    "json_dictionary = dict()\n",
    "with open(\"dictionary.json\") as dictionary_file:\n",
    "    json_dictionary = json.load(dictionary_file)\n",
    "    \n",
    "# get input from the user    \n",
    "in_word = input(\"Search meaning of word : \")\n",
    "print(json_dictionary[in_word.lower()])\n",
    "\n",
    "#difflib-> get_close_matches\n"
   ]
  }
 ],
 "metadata": {
  "kernelspec": {
   "display_name": "Python 3",
   "language": "python",
   "name": "python3"
  },
  "language_info": {
   "codemirror_mode": {
    "name": "ipython",
    "version": 3
   },
   "file_extension": ".py",
   "mimetype": "text/x-python",
   "name": "python",
   "nbconvert_exporter": "python",
   "pygments_lexer": "ipython3",
   "version": "3.8.2"
  }
 },
 "nbformat": 4,
 "nbformat_minor": 4
}
