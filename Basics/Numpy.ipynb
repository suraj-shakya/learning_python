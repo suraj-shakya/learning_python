{
 "cells": [
  {
   "cell_type": "markdown",
   "metadata": {},
   "source": [
    "# Numpy \n",
    "---\n",
    "*Reference: https://numpy.org/doc/*\n",
    "\n",
    "\n",
    "- created in 2005 by Travis Oliphant\n",
    "- open source \n",
    "- a.k.a Numerical Python\n",
    "- Python library for working with numerical data\n",
    "- mostly used in dat science and scientific Python packages like Pandas, SciPy, Matplotlib, scikit-learn, scikit-image etc.\n",
    "- **used for working with arrays** \n",
    "- can be used for working in domain of algebra, fourier transform, and matrices\n",
    "- written partially in Python, but most parts in C or C++ for fast computation\n",
    "\n",
    "\n",
    "## Numpy vs List\n",
    "---\n",
    "- speed\n",
    "- it is said that numpy array object is up to 50x faster than the traditional Python lists\n",
    "- array object in numpy is called ndarray (n-dimensional array)\n",
    "\n",
    "\n",
    "## Working with Numpy\n",
    "---\n",
    "\n",
    "### Installing Numpy\n",
    "\n",
    "```pip install numpy```\n",
    "\n",
    "### import \n",
    "```import numpy as np```\n",
    "\n",
    "## Array\n",
    "---\n",
    "\n",
    "- grid of same value type \n",
    "- grid of elements that can be indexed in various ways.\n",
    "- type referred to as array dtype.  \n",
    "\n",
    "An array can be indexed by a tuple of nonnegative integers, by booleans, by another array, or by integers. The rank of the array is the number of dimensions. The shape of the array is a tuple of integers giving the size of the array along each dimension.  \n",
    "\n",
    "**Common Terms:**\n",
    "- Vector: 1-D Array \n",
    "- Matrix: 2-D Array\n",
    "- Tensor: 3-D Array or higher\n",
    "\n",
    "One way we can initialize NumPy arrays is from Python lists, using nested lists for two- or higher-dimensional data."
   ]
  },
  {
   "cell_type": "code",
   "execution_count": 36,
   "metadata": {
    "scrolled": true
   },
   "outputs": [
    {
     "name": "stdout",
     "output_type": "stream",
     "text": [
      "[1 2 3]\n",
      "<class 'numpy.ndarray'>\n"
     ]
    }
   ],
   "source": [
    "import numpy as np\n",
    "\n",
    "lst_ndarray = np.array([1,2,3])\n",
    "print(lst_ndarray)\n",
    "print(type(lst_ndarray))\n"
   ]
  },
  {
   "attachments": {},
   "cell_type": "markdown",
   "metadata": {},
   "source": [
    "![image.png](https://numpy.org/doc/stable/_images/np_array.png)"
   ]
  },
  {
   "cell_type": "code",
   "execution_count": 37,
   "metadata": {},
   "outputs": [
    {
     "name": "stdout",
     "output_type": "stream",
     "text": [
      "[1 2 3 4 5]\n",
      "<class 'numpy.ndarray'>\n"
     ]
    }
   ],
   "source": [
    "#using tuple to create a NumPy Array:\n",
    "t_ndarray = np.array((1,2,3,4,5))\n",
    "print(t_ndarray)\n",
    "print(type(t_ndarray))"
   ]
  },
  {
   "cell_type": "markdown",
   "metadata": {},
   "source": [
    "### Different ways of creating numpy arrays\n",
    "---\n",
    "\n",
    "- ```np.zeros()```  \n",
    "- ```np.ones()```  \n",
    "- ```np.empty()```  \n",
    "- ```np.arange()```  \n",
    "- ```np.linspace()```  "
   ]
  },
  {
   "cell_type": "code",
   "execution_count": 38,
   "metadata": {},
   "outputs": [
    {
     "name": "stdout",
     "output_type": "stream",
     "text": [
      "np.zeros(5) :  [0. 0. 0. 0. 0.]\n",
      "np.ones(2) :  [1. 1.]\n",
      "np.empty(5) :  [0. 0. 0. 0. 0.]\n",
      "np.arange(10) :  [0 1 2 3 4 5 6 7 8 9]\n",
      "np.arange(1,10) :  [1 2 3 4 5 6 7 8 9]\n",
      "np.arange(1,10,2) :  [1 3 5 7 9]\n",
      "np.linspace(0,10,5) :  (array([ 0. ,  2.5,  5. ,  7.5, 10. ]), 2.5)\n"
     ]
    }
   ],
   "source": [
    "#Examples:\n",
    "\n",
    "# 1-D Array\n",
    "print(\"np.zeros(5) : \",np.zeros(5))\n",
    "print(\"np.ones(2) : \",np.ones(2))\n",
    "print(\"np.empty(5) : \",np.empty(5))\n",
    "print(\"np.arange(10) : \",np.arange(10))\n",
    "print(\"np.arange(1,10) : \",np.arange(1,10))\n",
    "print(\"np.arange(1,10,2) : \",np.arange(1,10,2))\n",
    "print(\"np.linspace(0,10,5) : \",np.linspace(0,10,5,retstep=True))\n"
   ]
  },
  {
   "cell_type": "code",
   "execution_count": 39,
   "metadata": {},
   "outputs": [
    {
     "name": "stdout",
     "output_type": "stream",
     "text": [
      "np.zeros((2,2)) : \n",
      " [[0. 0.]\n",
      " [0. 0.]]\n",
      "np.ones((2,2)) : \n",
      " [[1. 1.]\n",
      " [1. 1.]]\n",
      "np.empty((2,2)) : \n",
      " [[1. 1.]\n",
      " [1. 1.]]\n"
     ]
    }
   ],
   "source": [
    "\n",
    "# 2-D Array can be created by passing tuple as an argument\n",
    "print(\"np.zeros((2,2)) : \\n\",np.zeros((2,2)))\n",
    "print(\"np.ones((2,2)) : \\n\",np.ones((2,2)))\n",
    "print(\"np.empty((2,2)) : \\n\",np.empty((2,2)))\n"
   ]
  },
  {
   "cell_type": "markdown",
   "metadata": {},
   "source": [
    "### Dimensions in array\n",
    "---\n",
    "\n",
    "- considered as the depth of the ndarray\n",
    "- ```ndarray.ndim``` gives the number of axes, or dimension of an array\n",
    "\n",
    "Example : "
   ]
  },
  {
   "cell_type": "code",
   "execution_count": 40,
   "metadata": {},
   "outputs": [
    {
     "name": "stdout",
     "output_type": "stream",
     "text": [
      "100\n",
      "0-D Array dim:  0\n",
      "\n",
      "[1 2 3 4 5]\n",
      "1-D Array dim:  1\n",
      "\n",
      "[[1 2 3 4 5]\n",
      " [6 7 8 9 0]\n",
      " [1 2 3 4 5]]\n",
      "2-D Array dim:  2\n",
      "\n",
      "[[[1 2]\n",
      "  [3 4]\n",
      "  [5 6]]\n",
      "\n",
      " [[1 2]\n",
      "  [3 4]\n",
      "  [5 6]]]\n",
      "3-D Array dim:  3\n",
      "\n"
     ]
    }
   ],
   "source": [
    "#0-D Array\n",
    "zero_d = np.array(100)\n",
    "one_d = np.array([1,2,3,4,5])\n",
    "two_d = np.array([[1,2,3,4,5],[6,7,8,9,0],[1,2,3,4,5]])\n",
    "three_d = np.array([[[1,2],[3,4],[5,6]],[[1,2],[3,4],[5,6]]])\n",
    "\n",
    "print(zero_d)\n",
    "print(\"0-D Array dim: \",zero_d.ndim,end=\"\\n\\n\")\n",
    "print(one_d)\n",
    "print(\"1-D Array dim: \",one_d.ndim,end=\"\\n\\n\")\n",
    "print(two_d)\n",
    "print(\"2-D Array dim: \",two_d.ndim,end=\"\\n\\n\")\n",
    "print(three_d)\n",
    "print(\"3-D Array dim: \",three_d.ndim,end=\"\\n\\n\")"
   ]
  },
  {
   "cell_type": "markdown",
   "metadata": {},
   "source": [
    "### shape of an array \n",
    "---\n",
    "- tuple of integers that indicate the number of elements stored along each dimension of the array\n",
    "\n",
    "Example:\n"
   ]
  },
  {
   "cell_type": "code",
   "execution_count": 41,
   "metadata": {},
   "outputs": [
    {
     "name": "stdout",
     "output_type": "stream",
     "text": [
      "100\n",
      "0-D Array shape:  ()\n",
      "\n",
      "[1 2 3 4 5]\n",
      "1-D Array shape:  (5,)\n",
      "\n",
      "[[1 2 3 4 5]\n",
      " [6 7 8 9 0]\n",
      " [1 2 3 4 5]]\n",
      "2-D Array shape:  (3, 5)\n",
      "\n",
      "[[[1 2]\n",
      "  [3 4]\n",
      "  [5 6]]\n",
      "\n",
      " [[1 2]\n",
      "  [3 4]\n",
      "  [5 6]]]\n",
      "3-D Array shape:  (2, 3, 2)\n",
      "\n"
     ]
    }
   ],
   "source": [
    "\n",
    "print(zero_d)\n",
    "print(\"0-D Array shape: \",zero_d.shape,end=\"\\n\\n\")\n",
    "print(one_d)\n",
    "print(\"1-D Array shape: \",one_d.shape,end=\"\\n\\n\")\n",
    "print(two_d)\n",
    "print(\"2-D Array shape: \",two_d.shape,end=\"\\n\\n\")\n",
    "print(three_d)\n",
    "print(\"3-D Array shape: \",three_d.shape,end=\"\\n\\n\")"
   ]
  },
  {
   "cell_type": "markdown",
   "metadata": {},
   "source": [
    "### Size of an array \n",
    "---\n",
    "- Total number of elements of the array\n",
    "\n",
    "Example:"
   ]
  },
  {
   "cell_type": "code",
   "execution_count": 42,
   "metadata": {},
   "outputs": [
    {
     "name": "stdout",
     "output_type": "stream",
     "text": [
      "100\n",
      "0-D Array size:  1\n",
      "\n",
      "[1 2 3 4 5]\n",
      "1-D Array size:  5\n",
      "\n",
      "[[1 2 3 4 5]\n",
      " [6 7 8 9 0]\n",
      " [1 2 3 4 5]]\n",
      "2-D Array size:  15\n",
      "\n",
      "[[[1 2]\n",
      "  [3 4]\n",
      "  [5 6]]\n",
      "\n",
      " [[1 2]\n",
      "  [3 4]\n",
      "  [5 6]]]\n",
      "3-D Array size:  12\n",
      "\n"
     ]
    }
   ],
   "source": [
    "\n",
    "print(zero_d)\n",
    "print(\"0-D Array size: \",zero_d.size,end=\"\\n\\n\")\n",
    "print(one_d)\n",
    "print(\"1-D Array size: \",one_d.size,end=\"\\n\\n\")\n",
    "print(two_d)\n",
    "print(\"2-D Array size: \",two_d.size,end=\"\\n\\n\")\n",
    "print(three_d)\n",
    "print(\"3-D Array size: \",three_d.size,end=\"\\n\\n\")"
   ]
  },
  {
   "cell_type": "markdown",
   "metadata": {},
   "source": [
    "### Reshape an array\n",
    "---\n",
    "\n",
    "- ```ndarray.reshape()``` or ```np.reshape()``` helps in reshaping an existing ndarray\n"
   ]
  },
  {
   "cell_type": "code",
   "execution_count": 43,
   "metadata": {},
   "outputs": [
    {
     "name": "stdout",
     "output_type": "stream",
     "text": [
      "12\n",
      "1-D Array : \n",
      " [ 0  1  2  3  4  5  6  7  8  9 10 11]\n",
      "\n",
      "2-D Array : \n",
      " [[ 0  1  2  3]\n",
      " [ 4  5  6  7]\n",
      " [ 8  9 10 11]]\n",
      "\n",
      "3-D Array : \n",
      " [[[ 0  1]\n",
      "  [ 2  3]]\n",
      "\n",
      " [[ 4  5]\n",
      "  [ 6  7]]\n",
      "\n",
      " [[ 8  9]\n",
      "  [10 11]]]\n",
      "\n"
     ]
    }
   ],
   "source": [
    "oned_ndarray = np.arange(12)\n",
    "print(oned_ndarray.size)\n",
    "print(\"1-D Array : \\n\",oned_ndarray,end=\"\\n\\n\")\n",
    "print(\"2-D Array : \\n\",oned_ndarray.reshape((3,4)),end=\"\\n\\n\")\n",
    "print(\"3-D Array : \\n\",oned_ndarray.reshape((3,2,2)),end=\"\\n\\n\")"
   ]
  },
  {
   "cell_type": "markdown",
   "metadata": {},
   "source": [
    "### Accessing the values of an ndarray \n",
    "---\n",
    "- This is similar to the list \n",
    "- use index to access an element\n",
    "- slicing to get range of elements\n",
    "- index starts from 0\n",
    "- index if negative then reversed i.e from the last\n"
   ]
  },
  {
   "cell_type": "code",
   "execution_count": 44,
   "metadata": {},
   "outputs": [
    {
     "name": "stdout",
     "output_type": "stream",
     "text": [
      "[1 2 3 4 5]\n",
      "get 3rd element of one_d ndarray :  3\n"
     ]
    }
   ],
   "source": [
    "# using index\n",
    "\n",
    "# in 1-D \n",
    "print(one_d)\n",
    "print(\"get 3rd element of one_d ndarray : \",one_d[2])\n"
   ]
  },
  {
   "cell_type": "code",
   "execution_count": 45,
   "metadata": {},
   "outputs": [
    {
     "name": "stdout",
     "output_type": "stream",
     "text": [
      "[[1 2 3 4 5]\n",
      " [6 7 8 9 0]\n",
      " [1 2 3 4 5]]\n",
      "get 3rd element of two_d ndarray :  [1 2 3 4 5]\n",
      "get 3rd element of 2nd axis of two_d ndarray :  8\n"
     ]
    }
   ],
   "source": [
    "\n",
    "# in 2-D \n",
    "print(two_d)\n",
    "print(\"get 3rd element of two_d ndarray : \",two_d[2])\n",
    "print(\"get 3rd element of 2nd axis of two_d ndarray : \",two_d[1,2])\n"
   ]
  },
  {
   "cell_type": "code",
   "execution_count": 46,
   "metadata": {},
   "outputs": [
    {
     "name": "stdout",
     "output_type": "stream",
     "text": [
      "[[[1 2]\n",
      "  [3 4]\n",
      "  [5 6]]\n",
      "\n",
      " [[1 2]\n",
      "  [3 4]\n",
      "  [5 6]]]\n",
      "get 2nd element of two_d ndarray :  [[1 2]\n",
      " [3 4]\n",
      " [5 6]]\n",
      "get 2nd element of 2nd axis of two_d ndarray :  [3 4]\n"
     ]
    }
   ],
   "source": [
    "\n",
    "# in 3-D \n",
    "print(three_d)\n",
    "print(\"get 2nd element of two_d ndarray : \",three_d[1])\n",
    "print(\"get 2nd element of 2nd axis of two_d ndarray : \",three_d[1,1])\n"
   ]
  },
  {
   "cell_type": "code",
   "execution_count": 47,
   "metadata": {},
   "outputs": [],
   "source": [
    "data = np.array([1, 2, 3])\n"
   ]
  },
  {
   "attachments": {},
   "cell_type": "markdown",
   "metadata": {},
   "source": [
    "![image.png](https://numpy.org/doc/stable/_images/np_indexing.png)"
   ]
  },
  {
   "cell_type": "code",
   "execution_count": 48,
   "metadata": {},
   "outputs": [
    {
     "name": "stdout",
     "output_type": "stream",
     "text": [
      "[[1 2 3 4 5]\n",
      " [6 7 8 9 0]\n",
      " [1 2 3 4 5]]\n"
     ]
    }
   ],
   "source": [
    "print(two_d)"
   ]
  },
  {
   "cell_type": "code",
   "execution_count": 49,
   "metadata": {},
   "outputs": [
    {
     "name": "stdout",
     "output_type": "stream",
     "text": [
      "[[1 2 3 4 5]\n",
      " [6 7 8 9 0]]\n",
      "[[2 3]\n",
      " [7 8]]\n"
     ]
    }
   ],
   "source": [
    "#Slicing 2-D Arrays\n",
    "print(two_d[0:2])\n",
    "print(two_d[0:2,1:3])"
   ]
  },
  {
   "cell_type": "code",
   "execution_count": 50,
   "metadata": {},
   "outputs": [
    {
     "name": "stdout",
     "output_type": "stream",
     "text": [
      "[[[1 2]\n",
      "  [3 4]\n",
      "  [5 6]]\n",
      "\n",
      " [[1 2]\n",
      "  [3 4]\n",
      "  [5 6]]]\n",
      "\n",
      "\n",
      "[[[1 2]\n",
      "  [3 4]\n",
      "  [5 6]]]\n",
      "\n",
      "\n",
      "[[[3]\n",
      "  [5]]]\n",
      "\n",
      "\n"
     ]
    }
   ],
   "source": [
    "#Slicing 3-D Arrays\n",
    "print(three_d,end=\"\\n\\n\\n\")\n",
    "print(three_d[0:1],end=\"\\n\\n\\n\")\n",
    "print(three_d[0:1,1:3,0:1],end=\"\\n\\n\\n\")"
   ]
  },
  {
   "cell_type": "markdown",
   "metadata": {},
   "source": [
    "## Array Operations\n",
    "\n",
    "### Joining Array"
   ]
  },
  {
   "cell_type": "code",
   "execution_count": 54,
   "metadata": {},
   "outputs": [
    {
     "data": {
      "text/plain": [
       "array([1, 2, 3, 4, 5, 6])"
      ]
     },
     "execution_count": 54,
     "metadata": {},
     "output_type": "execute_result"
    }
   ],
   "source": [
    "# Joining 1-D Array\n",
    "a1 = np.arange(1,4)\n",
    "a2 = np.arange(4,7)\n",
    "\n",
    "np.concatenate((a1, a2))\n",
    "\n"
   ]
  },
  {
   "cell_type": "code",
   "execution_count": 61,
   "metadata": {},
   "outputs": [
    {
     "name": "stdout",
     "output_type": "stream",
     "text": [
      "Concatenate on Axis:1\n",
      " [[1 2 5 6]\n",
      " [3 4 7 8]]\n",
      "\n",
      "Concatenate on Axis:0\n",
      " [[1 2]\n",
      " [3 4]\n",
      " [5 6]\n",
      " [7 8]]\n"
     ]
    }
   ],
   "source": [
    "# Joining 2-D Array\n",
    "a21 = np.arange(1,5)\n",
    "a21.shape = (2,2)\n",
    "a22 = np.arange(5,9)\n",
    "a22.shape = (2,2)\n",
    "\n",
    "print(\"Concatenate on Axis:1\\n\",np.concatenate((a21, a22),axis=1),end=\"\\n\\n\")\n",
    "print(\"Concatenate on Axis:0\\n\",np.concatenate((a21, a22),axis=0))\n"
   ]
  },
  {
   "cell_type": "code",
   "execution_count": 71,
   "metadata": {},
   "outputs": [
    {
     "name": "stdout",
     "output_type": "stream",
     "text": [
      "Array 1 \n",
      " [1 2 3]\n",
      "\n",
      "Array 2 \n",
      " [4 5 6]\n",
      "\n",
      "Concatenate on Axis:1\n",
      " [[1 4]\n",
      " [2 5]\n",
      " [3 6]]\n",
      "\n",
      "Concatenate on Axis:0\n",
      " [[1 2 3]\n",
      " [4 5 6]]\n"
     ]
    }
   ],
   "source": [
    "# Joining 1-D Array using Stack Function\n",
    "a1 = np.arange(1,4)\n",
    "a2 = np.arange(4,7)\n",
    "\n",
    "\n",
    "# np.stack((a21, a22))\n",
    "print(\"Array 1 \\n\",a1,end=\"\\n\\n\")\n",
    "print(\"Array 2 \\n\",a2,end=\"\\n\\n\")\n",
    "print(\"Concatenate on Axis:1\\n\",np.stack((a1, a2),axis=1),end=\"\\n\\n\")\n",
    "print(\"Concatenate on Axis:0\\n\",np.stack((a1, a2),axis=0))\n"
   ]
  },
  {
   "cell_type": "markdown",
   "metadata": {},
   "source": [
    "> Difference between ```Stack()``` and ```concatenate()``` is that the ```stack()``` functions joins a sequence of arrays along a new axis.. It means the list of arrays are added in new axis"
   ]
  },
  {
   "cell_type": "code",
   "execution_count": 72,
   "metadata": {},
   "outputs": [
    {
     "data": {
      "text/plain": [
       "array([1, 2, 3, 4, 5, 6])"
      ]
     },
     "execution_count": 72,
     "metadata": {},
     "output_type": "execute_result"
    }
   ],
   "source": [
    "#Stacking along rows \n",
    "np.hstack((a1,a2))"
   ]
  },
  {
   "cell_type": "code",
   "execution_count": 73,
   "metadata": {},
   "outputs": [
    {
     "data": {
      "text/plain": [
       "array([[1, 2, 3],\n",
       "       [4, 5, 6]])"
      ]
     },
     "execution_count": 73,
     "metadata": {},
     "output_type": "execute_result"
    }
   ],
   "source": [
    "#stacking along columns\n",
    "np.vstack((a1,a2))"
   ]
  },
  {
   "cell_type": "code",
   "execution_count": 76,
   "metadata": {},
   "outputs": [
    {
     "data": {
      "text/plain": [
       "array([[[1, 4],\n",
       "        [2, 5],\n",
       "        [3, 6]]])"
      ]
     },
     "execution_count": 76,
     "metadata": {},
     "output_type": "execute_result"
    }
   ],
   "source": [
    "#stacking along depth/height\n",
    "np.dstack((a1,a2))"
   ]
  },
  {
   "cell_type": "markdown",
   "metadata": {},
   "source": [
    "### Array Splitting\n",
    "- revers of concatenation or joining\n",
    "- splits breaks on array into multiple"
   ]
  },
  {
   "cell_type": "code",
   "execution_count": 100,
   "metadata": {},
   "outputs": [
    {
     "name": "stdout",
     "output_type": "stream",
     "text": [
      "[7 6 2 4 6]\n",
      "[array([7, 6, 2]), array([4, 6])]\n"
     ]
    }
   ],
   "source": [
    "onearr = np.random.randint(10,size=(5))\n",
    "print(onearr)\n",
    "\n",
    "print(np.array_split(onearr, 2))"
   ]
  },
  {
   "cell_type": "code",
   "execution_count": 101,
   "metadata": {},
   "outputs": [
    {
     "data": {
      "text/plain": [
       "[array([[1, 2]]), array([[3, 4]]), array([], shape=(0, 2), dtype=int32)]"
      ]
     },
     "execution_count": 101,
     "metadata": {},
     "output_type": "execute_result"
    }
   ],
   "source": [
    "#splitting 2-d array\n",
    "np.array_split(a21, 3)"
   ]
  },
  {
   "cell_type": "code",
   "execution_count": 102,
   "metadata": {},
   "outputs": [],
   "source": [
    "#Check hsplit(), vsplit(), dsplit()"
   ]
  },
  {
   "cell_type": "markdown",
   "metadata": {},
   "source": [
    "### Searching Arrays\n",
    " - returns index that get a match\n",
    " - search for a certain value in an array"
   ]
  },
  {
   "cell_type": "code",
   "execution_count": 107,
   "metadata": {},
   "outputs": [
    {
     "name": "stdout",
     "output_type": "stream",
     "text": [
      "[11  7  9 10 31 47 45 41 36 22 10 15 22 17 36 45 37 38  6  4]\n"
     ]
    }
   ],
   "source": [
    "rd_array = np.random.randint(50,size=(20))\n",
    "print(rd_array)"
   ]
  },
  {
   "cell_type": "code",
   "execution_count": 108,
   "metadata": {},
   "outputs": [
    {
     "data": {
      "text/plain": [
       "(array([ 9, 12], dtype=int64),)"
      ]
     },
     "execution_count": 108,
     "metadata": {},
     "output_type": "execute_result"
    }
   ],
   "source": [
    "np.where(rd_array == 22)"
   ]
  },
  {
   "cell_type": "code",
   "execution_count": 110,
   "metadata": {},
   "outputs": [
    {
     "data": {
      "text/plain": [
       "(array([ 3,  8,  9, 10, 12, 14, 17, 18, 19], dtype=int64),)"
      ]
     },
     "execution_count": 110,
     "metadata": {},
     "output_type": "execute_result"
    }
   ],
   "source": [
    "#using operator\n",
    "#get the even number indexes\n",
    "np.where(rd_array %2 == 0)"
   ]
  },
  {
   "cell_type": "markdown",
   "metadata": {},
   "source": [
    "### Filtering Arrays\n",
    "- get elements from existing array"
   ]
  },
  {
   "cell_type": "code",
   "execution_count": 129,
   "metadata": {},
   "outputs": [
    {
     "data": {
      "text/plain": [
       "array([100, 102])"
      ]
     },
     "execution_count": 129,
     "metadata": {},
     "output_type": "execute_result"
    }
   ],
   "source": [
    "farray = np.array([100,101,102,103])\n",
    "f = [True, False, True, False]\n",
    "farray[f]"
   ]
  },
  {
   "cell_type": "code",
   "execution_count": 131,
   "metadata": {},
   "outputs": [
    {
     "data": {
      "text/plain": [
       "array([100, 102])"
      ]
     },
     "execution_count": 131,
     "metadata": {},
     "output_type": "execute_result"
    }
   ],
   "source": [
    "farray[farray%2==0]"
   ]
  },
  {
   "cell_type": "code",
   "execution_count": 133,
   "metadata": {},
   "outputs": [
    {
     "data": {
      "text/plain": [
       "array([102])"
      ]
     },
     "execution_count": 133,
     "metadata": {},
     "output_type": "execute_result"
    }
   ],
   "source": [
    "farray[farray%3==0]"
   ]
  },
  {
   "cell_type": "code",
   "execution_count": null,
   "metadata": {},
   "outputs": [],
   "source": []
  }
 ],
 "metadata": {
  "kernelspec": {
   "display_name": "Python 3",
   "language": "python",
   "name": "python3"
  },
  "language_info": {
   "codemirror_mode": {
    "name": "ipython",
    "version": 3
   },
   "file_extension": ".py",
   "mimetype": "text/x-python",
   "name": "python",
   "nbconvert_exporter": "python",
   "pygments_lexer": "ipython3",
   "version": "3.8.2"
  }
 },
 "nbformat": 4,
 "nbformat_minor": 4
}
