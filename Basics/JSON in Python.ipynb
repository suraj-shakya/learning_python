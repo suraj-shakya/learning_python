{
 "cells": [
  {
   "cell_type": "markdown",
   "metadata": {},
   "source": [
    "# JSON in Python\n",
    "---\n",
    "- JavaScript Object Notation (JSON)\n",
    "- JSON is a syntax for storing and exchanging data.\n",
    "- is text, written with JavaScript object notation.  \n",
    "\n",
    "JSON supports mainly 6 data types:\n",
    "\n",
    "- string\n",
    "- number\n",
    "- boolean\n",
    "- null\n",
    "- object\n",
    "- array\n",
    "\n",
    "## JSON in Python\n",
    "---\n",
    "Python has a built-in package called ```json```, which can be used to work with JSON data.\n",
    "\n",
    "```\n",
    "# import json package\n",
    "import json\n",
    "```\n",
    "\n"
   ]
  },
  {
   "cell_type": "markdown",
   "metadata": {},
   "source": [
    "### Convert JSON to Python\n",
    "---\n",
    "```json.loads()``` method allow us to convert JSON String to python object( Python dictionary ).\n"
   ]
  },
  {
   "cell_type": "code",
   "execution_count": 22,
   "metadata": {},
   "outputs": [
    {
     "name": "stdout",
     "output_type": "stream",
     "text": [
      "json_data type :  <class 'str'>\n",
      "python_object type :  <class 'dict'>\n",
      "{'name': 'Falano', 'age': 20, 'gender': 'Male', 'address': 'Manang'}\n",
      "Falano\n"
     ]
    }
   ],
   "source": [
    "import json \n",
    "# same JSON:\n",
    "\n",
    "json_data = '''{\n",
    "                \"name\": \"Falano\",\n",
    "                \"age\" : 20,\n",
    "                \"gender\": \"Male\",\n",
    "                \"address\": \"Manang\"\n",
    "}'''\n",
    "\n",
    "print(\"json_data type : \",type(json_data))\n",
    "\n",
    "# parse json\n",
    "python_object = json.loads(json_data)\n",
    "print(\"python_object type : \",type(python_object))\n",
    "print(python_object)\n",
    "print(python_object[\"name\"])"
   ]
  },
  {
   "cell_type": "markdown",
   "metadata": {},
   "source": [
    "### Convert from Python Object to JSON\n",
    "```json.dumps()``` can be used to convert Python Object to JSON\n"
   ]
  },
  {
   "cell_type": "code",
   "execution_count": 23,
   "metadata": {},
   "outputs": [
    {
     "name": "stdout",
     "output_type": "stream",
     "text": [
      "{\"name\": \"Falano\", \"age\": 20, \"gender\": \"Male\", \"address\": \"Manang\"}\n",
      "<class 'str'>\n"
     ]
    }
   ],
   "source": [
    "json_dump = json.dumps(python_object)\n",
    "print(json_dump)\n",
    "print(type(json_dump))"
   ]
  },
  {
   "cell_type": "code",
   "execution_count": 29,
   "metadata": {},
   "outputs": [
    {
     "data": {
      "text/plain": [
       "list"
      ]
     },
     "execution_count": 29,
     "metadata": {},
     "output_type": "execute_result"
    }
   ],
   "source": [
    "str = '[{\"a\":\"b\"},{\"b\":[1,2,3,4,4]},{\"c\":true}]'\n",
    "pyt = json.loads(str)\n",
    "type(pyt)"
   ]
  },
  {
   "cell_type": "markdown",
   "metadata": {},
   "source": [
    "Following type of python object can be converted into JSON Strings:\n",
    "- dict\n",
    "- list\n",
    "- tuple\n",
    "- string\n",
    "- int\n",
    "- float\n",
    "- True\n",
    "- False\n",
    "- None"
   ]
  }
 ],
 "metadata": {
  "kernelspec": {
   "display_name": "Python 3",
   "language": "python",
   "name": "python3"
  },
  "language_info": {
   "codemirror_mode": {
    "name": "ipython",
    "version": 3
   },
   "file_extension": ".py",
   "mimetype": "text/x-python",
   "name": "python",
   "nbconvert_exporter": "python",
   "pygments_lexer": "ipython3",
   "version": "3.8.2"
  }
 },
 "nbformat": 4,
 "nbformat_minor": 4
}
