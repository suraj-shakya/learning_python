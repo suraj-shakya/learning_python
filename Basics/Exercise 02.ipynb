{
 "cells": [
  {
   "cell_type": "markdown",
   "metadata": {},
   "source": [
    "# Exercise 02  \n",
    "Create a python `RiskPredictor.py` file having followings: \n",
    "\n",
    " 1. function : prepareData\n",
    "\t - Parameters\n",
    "\t\t - Parameter 1 :\n",
    "\t\t\t - Type : Positional \n",
    "\t\t\t - Name : PersonName\n",
    "\t\t - Parameter 2 : \n",
    "\t\t\t - Type : Positional / Keyword\n",
    "\t\t\t - Name : Natinonality\n",
    "\t\t - Parameter 3 : \n",
    "\t\t\t - Type : Arbitary Keyword Arguments\n",
    "\t\t\t - Name : place_visited\n",
    "\t - Returns : Dictionary from the above information  \n",
    "     \n",
    "2. function : predictRisk\n",
    "\t- Parameters :\n",
    "\t\t- 1 : \n",
    "\t\t\t- positional  / keyword \n",
    "\t\t\t- type dicitionary \n",
    "\t\t\t- Note : return value of function prepareData\n",
    "\t\t- 2 : \n",
    "\t\t\t- Risk Zones\n",
    "\t\t\t- Type : lists\n",
    "\t- returns riskiness of that person based on the places s/he has visited. If a person has visited a place which is identified to be in risk zones, then the person should be quarantined for at least 14 days.\n",
    "\n",
    "\n",
    "Create another file ```TestResult.py``` and import`RiskPredictor.py` and call the functions in this file and predict result."
   ]
  }
 ],
 "metadata": {
  "kernelspec": {
   "display_name": "Python 3",
   "language": "python",
   "name": "python3"
  },
  "language_info": {
   "codemirror_mode": {
    "name": "ipython",
    "version": 3
   },
   "file_extension": ".py",
   "mimetype": "text/x-python",
   "name": "python",
   "nbconvert_exporter": "python",
   "pygments_lexer": "ipython3",
   "version": "3.8.2"
  }
 },
 "nbformat": 4,
 "nbformat_minor": 4
}
