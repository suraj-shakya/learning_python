{
 "cells": [
  {
   "cell_type": "markdown",
   "metadata": {},
   "source": [
    "# Data types\n",
    "## Built-in Data Types\n",
    "\n",
    "Variables can store data of different types, and different types can do different things.\n",
    "\n",
    "Python has the following data types built-in by default, in these categories:\n",
    "\n",
    "- Text Type:\tstr\n",
    "- [Numeric Types:\tint, float, complex](http://localhost:8888/notebooks/Data%20Types.ipynb#Numbers)\n",
    "- Sequence Types:\tlist, tuple, range\n",
    "- Mapping Type:\tdict\n",
    "- Set Types:\tset, frozenset\n",
    "- Boolean Type:\tbool\n",
    "- Binary Types:\tbytes, bytearray, memoryview"
   ]
  },
  {
   "cell_type": "code",
   "execution_count": 1,
   "metadata": {},
   "outputs": [],
   "source": [
    "# Text Type : str\n",
    "firstname = \"Neeraj\"\n",
    "\n",
    "#number: int\n",
    "age = 31\n",
    "\n",
    "#number: float\n",
    "averagecoffeeperday = 1.5 \n",
    "\n",
    "#number : complex data type\n",
    "complexdatatype = 1j\n",
    "\n",
    "#list\n",
    "leads = [\"Neeraj\",\"Ujen\",\"Pooja\",\"Bisheshta\"]\n",
    "\n",
    "#tuples\n",
    "#note that values in the tuples cannot be changed as compared to list\n",
    "females = (\"Smritis\",\"Pooja\",\"Bisheshta\",\"Melissa\",\"Mikita\",\"Shweta\",\"Kabita\",\"Saloni\",\"Pooja\")\n",
    "\n",
    "#range\n",
    "six_numbers = range(1,6)\n",
    "\n",
    "#dict\n",
    "singer = {'firstname':'Malcom','age':24,'genre':[\"Pop\",\"Rock\",\"Hip Hop\"],'Popular':'Originals'}\n",
    "\n",
    "#Set\n",
    "device_you_can_take_home = {\"Laptop\", \"Keyboard\", \"Monitor\",\"Mouse\"}\n",
    "\n",
    "#frozenset\n",
    "device_you_can_take_home = frozenset({\"Laptop\", \"Keyboard\", \"Monitor\",\"Mouse\"})\n",
    "\n",
    "#Boolean\n",
    "Working_from_home = True\n",
    "\n",
    "#Bytes\n",
    "bytevalue = b\"byte value\"\n",
    "\n",
    "#Byte Array\n",
    "bArray = bytearray(5)\n",
    "\n",
    "#MemoryView\n",
    "x = memoryview(bytes(5))"
   ]
  },
  {
   "cell_type": "markdown",
   "metadata": {},
   "source": [
    "## Getting the Data Type\n",
    "You can get the data type of any object by using the `type()` function:"
   ]
  },
  {
   "cell_type": "code",
   "execution_count": 5,
   "metadata": {},
   "outputs": [
    {
     "name": "stdout",
     "output_type": "stream",
     "text": [
      "Sujan'  is of type <class 'str'>\n"
     ]
    }
   ],
   "source": [
    "firstname = \"Sujan'\"\n",
    "print(firstname,\" is of type\", type(firstname))"
   ]
  },
  {
   "cell_type": "markdown",
   "metadata": {},
   "source": [
    "## Type Casting\n",
    "\n",
    "Converting the data type of one value to another data type"
   ]
  },
  {
   "cell_type": "code",
   "execution_count": 9,
   "metadata": {},
   "outputs": [
    {
     "name": "stdout",
     "output_type": "stream",
     "text": [
      "type(age) -> <class 'int'>\n",
      "type(str(age)) -> <class 'str'>\n"
     ]
    }
   ],
   "source": [
    "age = 12\n",
    "print('type(age) ->', type(age))\n",
    "print('type(str(age)) ->',type(str(age)))"
   ]
  },
  {
   "cell_type": "code",
   "execution_count": 8,
   "metadata": {},
   "outputs": [
    {
     "name": "stdout",
     "output_type": "stream",
     "text": [
      "b'\\x00\\x00\\x00\\x00\\x00'\n"
     ]
    }
   ],
   "source": [
    "#Examples of type casting\n",
    "x = str(\"Hello World\")# str\n",
    "x = int(20) #int\n",
    "x = float(20.5)#float\n",
    "x = complex(1j)#complex\n",
    "x = list((\"apple\", \"banana\", \"cherry\"))#list\n",
    "x = tuple((\"apple\", \"banana\", \"cherry\"))#tuple\n",
    "x = range(6)#range\n",
    "x = dict(name=\"John\", age=36)#dict\n",
    "x = set((\"apple\", \"banana\", \"cherry\"))#set\n",
    "x = frozenset((\"apple\", \"banana\", \"cherry\"))#frozenset\n",
    "x = bool(5)#bool\n",
    "x = bytes(5)#bytes\n",
    "x = bytearray(5)#bytearray\n",
    "x = memoryview(bytes(5))#memory view\n"
   ]
  },
  {
   "cell_type": "markdown",
   "metadata": {},
   "source": [
    "# Numbers\n",
    "- int  \n",
    "    Int, or integer, is a whole number, positive or negative, without decimals, of unlimited length.\n",
    "- float\n",
    "    - Float, or \"floating point number\" is a number, positive or negative, containing one or more decimals.\n",
    "    - Float can also be scientific numbers with an \"e\" to indicate the power of 10.\n",
    "- complex  \n",
    "    Complex numbers are written with a \"j\" as the imaginary part:\n",
    "\n",
    "Variables of numeric types are created when we assign a value to them:"
   ]
  },
  {
   "cell_type": "code",
   "execution_count": 14,
   "metadata": {},
   "outputs": [
    {
     "name": "stdout",
     "output_type": "stream",
     "text": [
      "1  is of  <class 'int'>\n",
      "200000000.0  is of  <class 'float'>\n",
      "1j  is of  <class 'complex'>\n"
     ]
    }
   ],
   "source": [
    "integer = 1    # int\n",
    "floatype = 2E8  # float\n",
    "complextype = 1j   # complex\n",
    "\n",
    "print(integer,' is of ',type(integer))\n",
    "print(floatype,' is of ',type(floatype))\n",
    "print(complextype,' is of ',type(complextype))"
   ]
  },
  {
   "cell_type": "markdown",
   "metadata": {},
   "source": [
    "## Math Operators\n",
    "\n",
    "- Addition ( + )\n",
    "- Subtraction ( - )\n",
    "- Multiplication ( * )\n",
    "- Division ( / )\n",
    "- Modulus ( % )\n",
    "- Exponentiation ( ** )\n",
    "- Floor Division ( // )"
   ]
  },
  {
   "cell_type": "code",
   "execution_count": 10,
   "metadata": {},
   "outputs": [
    {
     "data": {
      "text/plain": [
       "-15.0"
      ]
     },
     "execution_count": 10,
     "metadata": {},
     "output_type": "execute_result"
    }
   ],
   "source": [
    "17//5+20%2-10/5*3**2\n",
    "#3+0-10/5*9\n",
    "#3+0-2*9\n",
    "#Assignment : find the order of the operator\n",
    "#Note the output value type\n"
   ]
  },
  {
   "cell_type": "markdown",
   "metadata": {},
   "source": [
    "## String Literals\n",
    "> String literals in python are surrounded by either single quotation marks, or double quotation marks.\n",
    "\n",
    "```\n",
    "'hello' is the same as \"hello\".\n",
    "```\n",
    "\n",
    "We can display a string literal with the print() function.\n",
    "\n",
    "\n",
    "### Multiline Strings\n",
    "We can assign a multiline string to a variable by using three quotes:\n"
   ]
  },
  {
   "cell_type": "code",
   "execution_count": 11,
   "metadata": {},
   "outputs": [
    {
     "name": "stdout",
     "output_type": "stream",
     "text": [
      "This is a multiline string\n",
      "and we define a multiple string by enclosing the string value inside three quotes:\n",
      "'''multiple line string''' or \"\"\" multiple line string \"\"\"\n",
      "\n"
     ]
    }
   ],
   "source": [
    "multiline_string = \"\"\"This is a multiline string\n",
    "and we define a multiple string by enclosing the string value inside three quotes:\n",
    "'''multiple line string''' or \\\"\\\"\\\" multiple line string \\\"\\\"\\\"\n",
    "\"\"\"\n",
    "print(multiline_string)"
   ]
  },
  {
   "cell_type": "markdown",
   "metadata": {},
   "source": [
    "### Strings are Arrays\n",
    "> String in Python are arrays of bytes representing unicode characters.\n",
    "\n",
    "However, **Python does not have a character data type**, a single character is simply a string with a length of 1.\n",
    "\n",
    "Square brackets can be used to access elements of the string( **index start from 0** )."
   ]
  },
  {
   "cell_type": "code",
   "execution_count": 15,
   "metadata": {},
   "outputs": [
    {
     "name": "stdout",
     "output_type": "stream",
     "text": [
      "y\n"
     ]
    }
   ],
   "source": [
    "title = \"Python Training\"\n",
    "print(title[1])"
   ]
  },
  {
   "cell_type": "markdown",
   "metadata": {},
   "source": [
    "### Slicing\n",
    "> Returns a range of characters by using the slice syntax.\n",
    "\n",
    "Specify the start index and the end index, separated by a colon, to return a part of the string."
   ]
  },
  {
   "cell_type": "code",
   "execution_count": 17,
   "metadata": {},
   "outputs": [
    {
     "name": "stdout",
     "output_type": "stream",
     "text": [
      "tho\n"
     ]
    }
   ],
   "source": [
    "print(title[2:5])"
   ]
  },
  {
   "cell_type": "markdown",
   "metadata": {},
   "source": [
    "### Negative Indexing\n",
    "Use negative indexes to start the slice from the end of the string:"
   ]
  },
  {
   "cell_type": "code",
   "execution_count": 27,
   "metadata": {},
   "outputs": [
    {
     "name": "stdout",
     "output_type": "stream",
     "text": [
      "ini\n"
     ]
    }
   ],
   "source": [
    "print(title[-5:-2])"
   ]
  },
  {
   "cell_type": "code",
   "execution_count": 30,
   "metadata": {},
   "outputs": [
    {
     "name": "stdout",
     "output_type": "stream",
     "text": [
      "15\n"
     ]
    }
   ],
   "source": [
    "#Other Functions\n",
    "print(len(title))\n"
   ]
  },
  {
   "cell_type": "code",
   "execution_count": 19,
   "metadata": {},
   "outputs": [
    {
     "name": "stdout",
     "output_type": "stream",
     "text": [
      "Melissa Gurung\n"
     ]
    }
   ],
   "source": [
    "#string concatenation\n",
    "firstname = \"Melissa\"\n",
    "lastname = \"Gurung\"\n",
    "\n",
    "fullname = \"Melissa\"+\" \"+\"Gurung\"\n",
    "print(fullname)"
   ]
  },
  {
   "cell_type": "markdown",
   "metadata": {},
   "source": [
    "**string and integer cannot be concatenated**\n"
   ]
  },
  {
   "cell_type": "code",
   "execution_count": 20,
   "metadata": {},
   "outputs": [
    {
     "ename": "TypeError",
     "evalue": "can only concatenate str (not \"int\") to str",
     "output_type": "error",
     "traceback": [
      "\u001b[1;31m---------------------------------------------------------------------------\u001b[0m",
      "\u001b[1;31mTypeError\u001b[0m                                 Traceback (most recent call last)",
      "\u001b[1;32m<ipython-input-20-4bdff27f3dfb>\u001b[0m in \u001b[0;36m<module>\u001b[1;34m\u001b[0m\n\u001b[0;32m      1\u001b[0m \u001b[0mage\u001b[0m \u001b[1;33m=\u001b[0m \u001b[1;36m16\u001b[0m\u001b[1;33m\u001b[0m\u001b[1;33m\u001b[0m\u001b[0m\n\u001b[0;32m      2\u001b[0m \u001b[1;33m\u001b[0m\u001b[0m\n\u001b[1;32m----> 3\u001b[1;33m \u001b[0mprint\u001b[0m\u001b[1;33m(\u001b[0m\u001b[1;34m\"Age of \"\u001b[0m\u001b[1;33m+\u001b[0m\u001b[0mfullname\u001b[0m\u001b[1;33m+\u001b[0m\u001b[1;34m\" is \"\u001b[0m\u001b[1;33m+\u001b[0m \u001b[0mage\u001b[0m\u001b[1;33m)\u001b[0m\u001b[1;33m\u001b[0m\u001b[1;33m\u001b[0m\u001b[0m\n\u001b[0m",
      "\u001b[1;31mTypeError\u001b[0m: can only concatenate str (not \"int\") to str"
     ]
    }
   ],
   "source": [
    "age = 16\n",
    "\n",
    "print(\"Age of \"+fullname+\" is \"+ age)"
   ]
  },
  {
   "cell_type": "markdown",
   "metadata": {},
   "source": [
    "**So needs to be type casted to string**"
   ]
  },
  {
   "cell_type": "code",
   "execution_count": 21,
   "metadata": {},
   "outputs": [
    {
     "name": "stdout",
     "output_type": "stream",
     "text": [
      "Age of Melissa Gurung is 16\n"
     ]
    }
   ],
   "source": [
    "print(\"Age of \"+fullname+\" is \"+ str(age))"
   ]
  },
  {
   "cell_type": "code",
   "execution_count": 22,
   "metadata": {},
   "outputs": [
    {
     "data": {
      "text/plain": [
       "'102'"
      ]
     },
     "execution_count": 22,
     "metadata": {},
     "output_type": "execute_result"
    }
   ],
   "source": [
    "#as the values are enclosed in the quotes these are considered as string\n",
    "\"10\"+\"2\""
   ]
  },
  {
   "cell_type": "code",
   "execution_count": 23,
   "metadata": {},
   "outputs": [
    {
     "data": {
      "text/plain": [
       "12"
      ]
     },
     "execution_count": 23,
     "metadata": {},
     "output_type": "execute_result"
    }
   ],
   "source": [
    "10 + 2"
   ]
  },
  {
   "cell_type": "markdown",
   "metadata": {},
   "source": [
    "### Check if string exists in string "
   ]
  },
  {
   "cell_type": "code",
   "execution_count": 30,
   "metadata": {},
   "outputs": [
    {
     "name": "stdout",
     "output_type": "stream",
     "text": [
      "True\n"
     ]
    }
   ],
   "source": [
    "description = \"Sujan Shrestha is talented, multi-lingual and married\"\n",
    "is_married = \"married\" in description\n",
    "print(is_married)"
   ]
  },
  {
   "cell_type": "markdown",
   "metadata": {},
   "source": [
    "### String format\n",
    "> The `format()` method takes the passed arguments, formats them, and places them in the string where the placeholders {} are:"
   ]
  },
  {
   "cell_type": "code",
   "execution_count": 44,
   "metadata": {},
   "outputs": [
    {
     "name": "stdout",
     "output_type": "stream",
     "text": [
      "Ujen has 1son not 10son. So he is chilled.\n"
     ]
    }
   ],
   "source": [
    "firstname = \"Ujen\"\n",
    "number_of_son = 1\n",
    "ten=10\n",
    "description = \"{} has {}son not {}son. So he is chilled.\".format(firstname,number_of_son,ten)\n",
    "print(description)"
   ]
  },
  {
   "cell_type": "code",
   "execution_count": 60,
   "metadata": {},
   "outputs": [
    {
     "name": "stdout",
     "output_type": "stream",
     "text": [
      "Saloni is studying in Patan Campus in 2 semester. In the last semester she scored 4.0 GPA\n"
     ]
    }
   ],
   "source": [
    "#using the index\n",
    "firstname = \"Saloni\"\n",
    "sem = 2\n",
    "college=\"Patan Campus\"\n",
    "score = 4.0\n",
    "description = \"{3} is studying in {1} in {2} semester. In the last semester she scored {0} GPA\".format(score, college, sem, firstname)\n",
    "print(description)"
   ]
  },
  {
   "cell_type": "code",
   "execution_count": 62,
   "metadata": {},
   "outputs": [
    {
     "name": "stdout",
     "output_type": "stream",
     "text": [
      "Saloni is studying in Patan Campus in 2 semester. In the last semester she scored 4.0 GPA\n"
     ]
    }
   ],
   "source": [
    "description = \"{name} is studying in {college} in {semester} semester. In the last semester she scored {score} GPA\".format(score=score, college=college, semester=sem,name=firstname)\n",
    "print(description)"
   ]
  },
  {
   "cell_type": "markdown",
   "metadata": {},
   "source": [
    "### Escape Character\n",
    "> To insert characters that are illegal in a string, use an escape character.\n",
    "\n",
    "An escape character is a backslash ***\\*** followed by the character you want to insert.\n",
    "\n",
    "An example of an illegal character is a double quote inside a string that is surrounded by double quotes."
   ]
  },
  {
   "cell_type": "code",
   "execution_count": 31,
   "metadata": {},
   "outputs": [
    {
     "name": "stdout",
     "output_type": "stream",
     "text": [
      "Please generate all the extract in the directory file:\\sharedrive\brand\n",
      "ew_folder\n"
     ]
    }
   ],
   "source": [
    "Extract_specification = \"Please generate all the extract in the directory file:\\\\sharedrive\\brand\\new_folder\"\n",
    "print(Extract_specification)"
   ]
  },
  {
   "cell_type": "code",
   "execution_count": 82,
   "metadata": {},
   "outputs": [
    {
     "name": "stdout",
     "output_type": "stream",
     "text": [
      "Please generate all the extract in the directory file:\\sharedrive\\brand\\new_folder\n"
     ]
    }
   ],
   "source": [
    "Extract_specification = \"Please generate all the extract in the directory file:\\\\sharedrive\\\\brand\\\\new_folder\"\n",
    "print(Extract_specification) \n",
    "# Note the directory is still invalid"
   ]
  },
  {
   "cell_type": "code",
   "execution_count": 83,
   "metadata": {},
   "outputs": [
    {
     "name": "stdout",
     "output_type": "stream",
     "text": [
      "Please generate all the extract in the directory file:\\\\sharedrive\\brand\\new_folder\n"
     ]
    }
   ],
   "source": [
    "Extract_specification = \"Please generate all the extract in the directory file:\\\\\\\\sharedrive\\\\brand\\\\new_folder\"\n",
    "print(Extract_specification) \n"
   ]
  },
  {
   "cell_type": "markdown",
   "metadata": {},
   "source": [
    "**we can also use raw type**"
   ]
  },
  {
   "cell_type": "code",
   "execution_count": 32,
   "metadata": {},
   "outputs": [
    {
     "name": "stdout",
     "output_type": "stream",
     "text": [
      "Please generate all the extract in the directory file:\\\\sharedrive\\brand\\new_folder\n"
     ]
    }
   ],
   "source": [
    "Extract_specification = r\"Please generate all the extract in the directory file:\\\\sharedrive\\brand\\new_folder\"\n",
    "print(Extract_specification) "
   ]
  },
  {
   "cell_type": "code",
   "execution_count": 33,
   "metadata": {},
   "outputs": [
    {
     "ename": "SyntaxError",
     "evalue": "invalid syntax (<ipython-input-33-5f5a6d583c14>, line 1)",
     "output_type": "error",
     "traceback": [
      "\u001b[1;36m  File \u001b[1;32m\"<ipython-input-33-5f5a6d583c14>\"\u001b[1;36m, line \u001b[1;32m1\u001b[0m\n\u001b[1;33m    melissa_joke = 'Melissa's jokes are difficult to understand by the normal peoples ;)'\u001b[0m\n\u001b[1;37m                            ^\u001b[0m\n\u001b[1;31mSyntaxError\u001b[0m\u001b[1;31m:\u001b[0m invalid syntax\n"
     ]
    }
   ],
   "source": [
    "melissa_joke = 'Melissa's jokes are difficult to understand by the normal peoples ;)'"
   ]
  },
  {
   "cell_type": "code",
   "execution_count": 70,
   "metadata": {},
   "outputs": [
    {
     "name": "stdout",
     "output_type": "stream",
     "text": [
      "Melissa's jokes are difficult to understand by the normal peoples ;)\n"
     ]
    }
   ],
   "source": [
    "melissa_joke = \"Melissa's jokes are difficult to understand by the normal peoples ;)\"\n",
    "print(melissa_joke)"
   ]
  },
  {
   "cell_type": "markdown",
   "metadata": {},
   "source": [
    "### Using split function\n",
    "> `Split()` function can be used to generate a list from string based on a delimiter"
   ]
  },
  {
   "cell_type": "code",
   "execution_count": 87,
   "metadata": {},
   "outputs": [
    {
     "name": "stdout",
     "output_type": "stream",
     "text": [
      "['Humble', ' To the point', ' rider', ' helpful', ' loved by all']\n",
      "<class 'list'>\n"
     ]
    }
   ],
   "source": [
    "nirmal_dai = \"Features of Nirmal dai are Humble, To the point, rider, helpful, loved by all\"\n",
    "nirmal_dai_feature = nirmal_dai[27:].split(\",\")\n",
    "print(nirmal_dai_feature)\n",
    "print(type(nirmal_dai_feature))"
   ]
  },
  {
   "cell_type": "markdown",
   "metadata": {},
   "source": [
    "### Input\n",
    "\n",
    "> Use `input()` function to take input from the user  \n",
    "**Input always get string data type**"
   ]
  },
  {
   "cell_type": "code",
   "execution_count": 1,
   "metadata": {},
   "outputs": [
    {
     "name": "stdout",
     "output_type": "stream",
     "text": [
      "Enter your name Suraj\n",
      "Hello !  Suraj <class 'str'>\n"
     ]
    }
   ],
   "source": [
    "name = input(\"Enter your name \")\n",
    "print(\"Hello ! \",name,type(name))"
   ]
  },
  {
   "cell_type": "code",
   "execution_count": 2,
   "metadata": {},
   "outputs": [
    {
     "name": "stdout",
     "output_type": "stream",
     "text": [
      "Enter num1 1\n",
      "Enter num2 2\n",
      "Addition of numbers 1 2  Is  3\n"
     ]
    }
   ],
   "source": [
    "num1 = input(\"Enter num1 \")\n",
    "num2 = input(\"Enter num2 \")\n",
    "print(\"Addition of numbers\",num1, num2 ,\" Is \", int(num1)+int(num2))"
   ]
  },
  {
   "cell_type": "code",
   "execution_count": null,
   "metadata": {},
   "outputs": [],
   "source": []
  }
 ],
 "metadata": {
  "kernelspec": {
   "display_name": "Python 3",
   "language": "python",
   "name": "python3"
  },
  "language_info": {
   "codemirror_mode": {
    "name": "ipython",
    "version": 3
   },
   "file_extension": ".py",
   "mimetype": "text/x-python",
   "name": "python",
   "nbconvert_exporter": "python",
   "pygments_lexer": "ipython3",
   "version": "3.8.2"
  }
 },
 "nbformat": 4,
 "nbformat_minor": 2
}
