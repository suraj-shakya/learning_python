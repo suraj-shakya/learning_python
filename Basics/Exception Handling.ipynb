{
 "cells": [
  {
   "cell_type": "markdown",
   "metadata": {},
   "source": [
    "# Exception Handling \n",
    "\n",
    "Python will normally stop and generate an error message in case of any errors/ exceptions. So to handle the unexpected halt of the execution we can use the try- except - finally blocks.\n",
    "\n",
    "``` \n",
    "   try\n",
    "     <<Codes that might have errors>>\n",
    "   except\n",
    "     <<handle error>>\n",
    "   finally\n",
    "     <<execute code, regardless of the result of the try- and except blocks>>\n",
    "```"
   ]
  },
  {
   "cell_type": "code",
   "execution_count": 14,
   "metadata": {
    "scrolled": true
   },
   "outputs": [
    {
     "ename": "ZeroDivisionError",
     "evalue": "division by zero",
     "output_type": "error",
     "traceback": [
      "\u001b[1;31m---------------------------------------------------------------------------\u001b[0m",
      "\u001b[1;31mZeroDivisionError\u001b[0m                         Traceback (most recent call last)",
      "\u001b[1;32m<ipython-input-14-458ebdc32137>\u001b[0m in \u001b[0;36m<module>\u001b[1;34m\u001b[0m\n\u001b[0;32m      1\u001b[0m \u001b[1;31m#lets select a statement that will raise an error\u001b[0m\u001b[1;33m\u001b[0m\u001b[1;33m\u001b[0m\u001b[1;33m\u001b[0m\u001b[0m\n\u001b[1;32m----> 2\u001b[1;33m \u001b[0mprint\u001b[0m\u001b[1;33m(\u001b[0m\u001b[1;36m1\u001b[0m\u001b[1;33m/\u001b[0m\u001b[1;36m0\u001b[0m\u001b[1;33m)\u001b[0m\u001b[1;33m\u001b[0m\u001b[1;33m\u001b[0m\u001b[0m\n\u001b[0m",
      "\u001b[1;31mZeroDivisionError\u001b[0m: division by zero"
     ]
    }
   ],
   "source": [
    "#lets select a statement that will raise an error\n",
    "print(1/0)"
   ]
  },
  {
   "cell_type": "code",
   "execution_count": 3,
   "metadata": {},
   "outputs": [
    {
     "name": "stdout",
     "output_type": "stream",
     "text": [
      "Error has been handled\n",
      "Whatever!!!!\n"
     ]
    }
   ],
   "source": [
    "try:\n",
    "    print(1/0)\n",
    "except:\n",
    "    print(\"Error has been handled\")\n",
    "finally:\n",
    "    print(\"Whatever!!!!\")"
   ]
  },
  {
   "cell_type": "code",
   "execution_count": 4,
   "metadata": {},
   "outputs": [
    {
     "name": "stdout",
     "output_type": "stream",
     "text": [
      "Known exception: Zero Division Error\n",
      "Whatever!!!!\n"
     ]
    }
   ],
   "source": [
    "try:\n",
    "    print(1/0)\n",
    "except ZeroDivisionError:\n",
    "    print(\"Known exception: Zero Division Error\")\n",
    "except:\n",
    "    print(\"I don't know what happened, but there are exception\")\n",
    "finally:\n",
    "    print(\"Whatever!!!!\")"
   ]
  },
  {
   "cell_type": "code",
   "execution_count": 15,
   "metadata": {},
   "outputs": [
    {
     "name": "stdout",
     "output_type": "stream",
     "text": [
      "Known exception: Zero Division Error\n",
      "Whatever!!!!\n"
     ]
    }
   ],
   "source": [
    "try:\n",
    "    print(1/0)\n",
    "except ZeroDivisionError:\n",
    "    print(\"Known exception: Zero Division Error\")\n",
    "except:\n",
    "    print(\"I don't know what happened, but there are exception\")\n",
    "else:\n",
    "    print(\"No errors were found\")\n",
    "finally:\n",
    "    print(\"Whatever!!!!\")"
   ]
  },
  {
   "cell_type": "code",
   "execution_count": 7,
   "metadata": {},
   "outputs": [
    {
     "name": "stdout",
     "output_type": "stream",
     "text": [
      "1.0\n",
      "No errors were found\n",
      "Whatever!!!!\n"
     ]
    }
   ],
   "source": [
    "try:\n",
    "    print(1/1)\n",
    "except ZeroDivisionError:\n",
    "    print(\"Known exception: Zero Division Error\")\n",
    "except:\n",
    "    print(\"I don't know what happened, but there are exception\")\n",
    "else:\n",
    "    print(\"No errors were found\")\n",
    "finally:\n",
    "    print(\"Whatever!!!!\")"
   ]
  },
  {
   "cell_type": "markdown",
   "metadata": {},
   "source": [
    "## Raise an exception\n",
    "---\n",
    "What if manually exception must be raised ???  \n",
    "use ```raise``` keyword"
   ]
  },
  {
   "cell_type": "code",
   "execution_count": 9,
   "metadata": {},
   "outputs": [
    {
     "ename": "Exception",
     "evalue": "Sorry!!! 1 is less than 2 :D",
     "output_type": "error",
     "traceback": [
      "\u001b[1;31m---------------------------------------------------------------------------\u001b[0m",
      "\u001b[1;31mException\u001b[0m                                 Traceback (most recent call last)",
      "\u001b[1;32m<ipython-input-9-10c85db0fab9>\u001b[0m in \u001b[0;36m<module>\u001b[1;34m\u001b[0m\n\u001b[0;32m      1\u001b[0m \u001b[1;32mif\u001b[0m \u001b[1;36m1\u001b[0m\u001b[1;33m<\u001b[0m\u001b[1;36m2\u001b[0m\u001b[1;33m:\u001b[0m\u001b[1;33m\u001b[0m\u001b[1;33m\u001b[0m\u001b[0m\n\u001b[1;32m----> 2\u001b[1;33m     \u001b[1;32mraise\u001b[0m \u001b[0mException\u001b[0m\u001b[1;33m(\u001b[0m\u001b[1;34m\"Sorry!!! 1 is less than 2 :D\"\u001b[0m\u001b[1;33m)\u001b[0m\u001b[1;33m\u001b[0m\u001b[1;33m\u001b[0m\u001b[0m\n\u001b[0m\u001b[0;32m      3\u001b[0m \u001b[1;33m\u001b[0m\u001b[0m\n",
      "\u001b[1;31mException\u001b[0m: Sorry!!! 1 is less than 2 :D"
     ]
    }
   ],
   "source": [
    "if 1<2:\n",
    "    raise Exception(\"Sorry!!! 1 is less than 2 :D\")\n",
    "    "
   ]
  },
  {
   "cell_type": "code",
   "execution_count": 12,
   "metadata": {},
   "outputs": [
    {
     "ename": "ZeroDivisionError",
     "evalue": "Sorry!!! 0 is less than 1 :D",
     "output_type": "error",
     "traceback": [
      "\u001b[1;31m---------------------------------------------------------------------------\u001b[0m",
      "\u001b[1;31mZeroDivisionError\u001b[0m                         Traceback (most recent call last)",
      "\u001b[1;32m<ipython-input-12-69833ca175c4>\u001b[0m in \u001b[0;36m<module>\u001b[1;34m\u001b[0m\n\u001b[0;32m      1\u001b[0m \u001b[1;31m# or any other type of exception\u001b[0m\u001b[1;33m\u001b[0m\u001b[1;33m\u001b[0m\u001b[1;33m\u001b[0m\u001b[0m\n\u001b[0;32m      2\u001b[0m \u001b[1;32mif\u001b[0m \u001b[1;36m0\u001b[0m\u001b[1;33m<\u001b[0m\u001b[1;36m1\u001b[0m\u001b[1;33m:\u001b[0m\u001b[1;33m\u001b[0m\u001b[1;33m\u001b[0m\u001b[0m\n\u001b[1;32m----> 3\u001b[1;33m     \u001b[1;32mraise\u001b[0m \u001b[0mZeroDivisionError\u001b[0m\u001b[1;33m(\u001b[0m\u001b[1;34m\"Sorry!!! 0 is less than 1 :D\"\u001b[0m\u001b[1;33m)\u001b[0m\u001b[1;33m\u001b[0m\u001b[1;33m\u001b[0m\u001b[0m\n\u001b[0m\u001b[0;32m      4\u001b[0m \u001b[1;33m\u001b[0m\u001b[0m\n",
      "\u001b[1;31mZeroDivisionError\u001b[0m: Sorry!!! 0 is less than 1 :D"
     ]
    }
   ],
   "source": [
    "# or any other type of exception\n",
    "if 0<1:\n",
    "    raise ZeroDivisionError(\"Sorry!!! 0 is less than 1 :D\")\n",
    "    "
   ]
  },
  {
   "cell_type": "markdown",
   "metadata": {},
   "source": [
    "There is an option for user-defined exception too.."
   ]
  },
  {
   "cell_type": "markdown",
   "metadata": {},
   "source": [
    "Some of the types ...\n",
    "\n",
    "|  Exception | Description | \n",
    "|   ---  |  ---  |\n",
    "|  AssertionError | Raised when an assert statement fails | \n",
    "|  AttributeError | Raised when attribute reference or assignment fails | \n",
    "|  Exception | Base class for all exceptions | \n",
    "|  EOFError | Raised when the input() method hits an \"end of file\" condition (EOF) | \n",
    "|  ArithmeticError | Raised when an error occurs in numeric calculations | \n",
    "|  FloatingPointError | Raised when a floating point calculation fails | \n",
    "|  GeneratorExit | Raised when a generator is closed (with the close() method) | \n",
    "|  ImportError | Raised when an imported module does not exist | \n",
    "|  IndentationError | Raised when indendation is not correct | \n",
    "|  IndexError | Raised when an index of a sequence does not exist | \n",
    "|  KeyError | Raised when a key does not exist in a dictionary | \n",
    "|  KeyboardInterrupt | Raised when the user presses Ctrl+c, Ctrl+z or Delete | \n",
    "|  LookupError | Raised when errors raised cant be found | \n",
    "|  MemoryError | Raised when a program runs out of memory | \n",
    "|  NameError | Raised when a variable does not exist | \n",
    "|  NotImplementedError | Raised when an abstract method requires an inherited class to override the method | \n",
    "|  OSError | Raised when a system related operation causes an error | \n",
    "|  OverflowError | Raised when the result of a numeric calculation is too large | \n",
    "|  ReferenceError | Raised when a weak reference object does not exist | \n",
    "|  RuntimeError | Raised when an error occurs that do not belong to any specific expections | \n",
    "|  StopIteration | Raised when the next() method of an iterator has no further values | \n",
    "|  SyntaxError | Raised when a syntax error occurs | \n",
    "|  TabError | Raised when indentation consists of tabs or spaces | \n",
    "|  SystemError | Raised when a system error occurs | \n",
    "|  SystemExit | Raised when the sys.exit() function is called | \n",
    "|  TypeError | Raised when two different types are combined | \n",
    "|  UnboundLocalError | Raised when a local variable is referenced before assignment | \n",
    "|  UnicodeError | Raised when a unicode problem occurs | \n",
    "|  UnicodeEncodeError | Raised when a unicode encoding problem occurs | \n",
    "|  UnicodeDecodeError | Raised when a unicode decoding problem occurs | \n",
    "|  UnicodeTranslateError | Raised when a unicode translation problem occurs | \n",
    "|  ValueError | Raised when there is a wrong value in a specified data type | \n",
    "|  ZeroDivisionError | Raised when the second operator in a division is zero | \n"
   ]
  },
  {
   "cell_type": "code",
   "execution_count": 18,
   "metadata": {},
   "outputs": [
    {
     "name": "stdout",
     "output_type": "stream",
     "text": [
      "[Errno 2] No such file or directory: 'adf.txt'\n"
     ]
    }
   ],
   "source": [
    "try:\n",
    "    open(\"adf.txt\")\n",
    "except Exception as e:\n",
    "    print(e)"
   ]
  }
 ],
 "metadata": {
  "kernelspec": {
   "display_name": "Python 3",
   "language": "python",
   "name": "python3"
  },
  "language_info": {
   "codemirror_mode": {
    "name": "ipython",
    "version": 3
   },
   "file_extension": ".py",
   "mimetype": "text/x-python",
   "name": "python",
   "nbconvert_exporter": "python",
   "pygments_lexer": "ipython3",
   "version": "3.8.2"
  }
 },
 "nbformat": 4,
 "nbformat_minor": 4
}
