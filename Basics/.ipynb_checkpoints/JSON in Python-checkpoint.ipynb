{
 "cells": [
  {
   "cell_type": "markdown",
   "metadata": {},
   "source": [
    "# JSON in Python\n",
    "---\n",
    "- JavaScript Object Notation (JSON)\n",
    "- JSON is a syntax for storing and exchanging data.\n",
    "- is text, written with JavaScript object notation.\n",
    "\n",
    "## JSON in Python\n",
    "---\n",
    "Python has a built-in package called ```json```, which can be used to work with JSON data.\n",
    "\n",
    "```\n",
    "# import json package\n",
    "import json\n",
    "```\n",
    "\n",
    "JSON supports mainly 6 data types:\n",
    "\n",
    "- string\n",
    "- number\n",
    "- boolean\n",
    "- null\n",
    "- object\n",
    "- array"
   ]
  },
  {
   "cell_type": "markdown",
   "metadata": {},
   "source": [
    "### Convert JSON to Python\n",
    "---\n",
    "```json.loads()``` method allow us to convert JSON String to python object( Python dictionary ).\n"
   ]
  },
  {
   "cell_type": "code",
   "execution_count": 2,
   "metadata": {},
   "outputs": [
    {
     "name": "stdout",
     "output_type": "stream",
     "text": [
      "<class 'dict'>\n",
      "{'name': 'Falano', 'age': 20, 'gender': 'Male', 'address': 'Manang'}\n",
      "Falano\n"
     ]
    }
   ],
   "source": [
    "import json \n",
    "# same JSON:\n",
    "json_data = '''{\n",
    "                \"name\": \"Falano\",\n",
    "                \"age\" : 20,\n",
    "                \"gender\": \"Male\",\n",
    "                \"address\": \"Manang\"\n",
    "}'''\n",
    "\n",
    "# parse json\n",
    "python_object = json.loads(json_data)\n",
    "print(type(python_object))\n",
    "print(python_object)\n",
    "print(python_object[\"name\"])"
   ]
  },
  {
   "cell_type": "markdown",
   "metadata": {},
   "source": [
    "### Convert from Python Object to JSON\n",
    "```json.dumps()``` can be used to convert Python Object to JSON\n"
   ]
  },
  {
   "cell_type": "code",
   "execution_count": 6,
   "metadata": {},
   "outputs": [
    {
     "name": "stdout",
     "output_type": "stream",
     "text": [
      "{\"name\": \"Falano\", \"age\": 20, \"gender\": \"Male\", \"address\": \"Manang\"}\n",
      "<class 'str'>\n"
     ]
    }
   ],
   "source": [
    "json_dump = json.dumps(python_object)\n",
    "print(json_dump)\n",
    "print(type(json_dump))"
   ]
  },
  {
   "cell_type": "markdown",
   "metadata": {},
   "source": [
    "Following type of python object can be converted into JSON Strings:\n",
    "- dict\n",
    "- list\n",
    "- tuple\n",
    "- string\n",
    "- int\n",
    "- float\n",
    "- True\n",
    "- False\n",
    "- None"
   ]
  },
  {
   "cell_type": "code",
   "execution_count": 20,
   "metadata": {},
   "outputs": [
    {
     "name": "stdout",
     "output_type": "stream",
     "text": [
      "Search meaning of word : shoe\n",
      "1. A covering for the human foot, usually made of leather, having a thick and somewhat stiff sole and a lighter top. It differs from a boot on not extending so far up the leg. Your hose should be ungartered, . . . yourshoe untied. Shak. Spare none but such as go in clouted shoon. Shak. 2. Anything resembling a shoe in form, position, or use. Specifically: (a) A plate or rim of iron nailed to the hoof of an animal to defend it from injury. (b) A band of iron or steel, or a ship of wood, fastened to the bottom of the runner of a sleigh, or any vehicle which slides on the snow. (c) A drag, or sliding piece of wood or iron, placed under the wheel of a loaded vehicle, to retard its motion in going down a hill. (d) The part of a railroad car brake which presses upon the wheel to retard its motion. (e) (Arch.) A trough-shaped or spout-shaped member, put at the bottom of the water leader coming from the eaves gutter, so as to throw the water off from the building. (f) (Milling.) The trough or spout for conveying the grain from the hopper to the eye of the millstone. (g) An inclined trough in an ore-crushing mill. (h) An iron socket or plate to take the thrust of a strut or rafter. (i) An iron socket to protect the point of a wooden pile. (j) (Mach.) A plate, or notched piece, interposed between a moving part and the stationary part on which it bears, to take the wear and afford means of adjustment; -- called also slipper, and gib. Note: Shoe is often used adjectively, or in composition; as, shoe buckle, or shoe-buckle; shoe latchet, or shoe-latchet; shoe leathet, or shoe-leather; shoe string, shoe-string, or shoestring. Shoe of an anchor. (Naut.) (a) A small block of wood, convex on the back, with a hole to receive the point of the anchor fluke, -- used to prevent the anchor from tearing the planks of the vessel when raised or lowered. (b) A broad, triangular piece of plank placed upon the fluke to give it a better hold in soft ground. -- Shoe block (Naut.), a block with two sheaves, one above the other, and at right angles to each other. -- Shoe bolt, a bolt with a flaring head, for fastening shoes on sleigh runners. -- Shoe pac, a kind of moccasin. See Pac. -- Shoe stone, a sharpening stone used by shoemakers and other workers in leather.\n",
      "\n",
      "1. To furnish with a shoe or shoes; to put a shoe or shoes on; as, to shoe a horse, a sled, an anchor. 2. To protect or ornament with something which serves the purpose of a shoe; to tip. The sharp and small end of the billiard stick, which is shod with brass or silver. Evelyn.\n"
     ]
    }
   ],
   "source": [
    "#Example:\n",
    "import json\n",
    "\n",
    "# json file downloaded from https://raw.githubusercontent.com/matthewreagan/WebstersEnglishDictionary/master/dictionary.json\n",
    "# load the json data into python object\n",
    "json_dictionary = dict()\n",
    "with open(\"dictionary.json\") as dictionary_file:\n",
    "    json_dictionary = json.load(dictionary_file)\n",
    "    \n",
    "# get input from the user    \n",
    "in_word = input(\"Search meaning of word : \")\n",
    "print(json_dictionary[in_word])\n",
    "\n"
   ]
  },
  {
   "cell_type": "code",
   "execution_count": null,
   "metadata": {},
   "outputs": [],
   "source": []
  }
 ],
 "metadata": {
  "kernelspec": {
   "display_name": "Python 3",
   "language": "python",
   "name": "python3"
  },
  "language_info": {
   "codemirror_mode": {
    "name": "ipython",
    "version": 3
   },
   "file_extension": ".py",
   "mimetype": "text/x-python",
   "name": "python",
   "nbconvert_exporter": "python",
   "pygments_lexer": "ipython3",
   "version": "3.8.2"
  }
 },
 "nbformat": 4,
 "nbformat_minor": 4
}
