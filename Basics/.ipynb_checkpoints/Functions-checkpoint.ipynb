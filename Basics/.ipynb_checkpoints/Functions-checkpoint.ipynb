{
 "cells": [
  {
   "cell_type": "markdown",
   "metadata": {},
   "source": [
    "# Functions\n",
    "\n",
    "- Group/blocks of statements/expressions\n",
    "- executes only when called\n",
    "- can be declared with parameters so that desired arguments can be passed\n",
    "- can return values\n",
    "- defined by ```def``` keyword\n",
    "- Signature  \n",
    "```def <function name>([parameter list if needed]):```  \n",
    "    ```    <statements>```\n",
    "     "
   ]
  },
  {
   "cell_type": "code",
   "execution_count": 2,
   "metadata": {},
   "outputs": [
    {
     "name": "stdout",
     "output_type": "stream",
     "text": [
      "hello Falano\n"
     ]
    }
   ],
   "source": [
    "def printMyName():\n",
    "    print(\"hello Falano\")\n",
    "\n",
    "printMyName()"
   ]
  },
  {
   "cell_type": "code",
   "execution_count": 7,
   "metadata": {},
   "outputs": [
    {
     "name": "stdout",
     "output_type": "stream",
     "text": [
      "Enter your nameFalano\n",
      "Welcome Falano!! \n",
      "Have a great day\n"
     ]
    }
   ],
   "source": [
    "# Passing Arguments:\n",
    "def welcomeFalano(fname):\n",
    "    print(\"Welcome {name}!! \\nHave a great day\".format(name=fname))\n",
    "\n",
    "name = input(\"Enter your name\")\n",
    "welcomeFalano(name)"
   ]
  },
  {
   "cell_type": "code",
   "execution_count": 9,
   "metadata": {},
   "outputs": [
    {
     "ename": "TypeError",
     "evalue": "welcomeFalano() missing 1 required positional argument: 'fname'",
     "output_type": "error",
     "traceback": [
      "\u001b[1;31m---------------------------------------------------------------------------\u001b[0m",
      "\u001b[1;31mTypeError\u001b[0m                                 Traceback (most recent call last)",
      "\u001b[1;32m<ipython-input-9-769a1e4c164e>\u001b[0m in \u001b[0;36m<module>\u001b[1;34m\u001b[0m\n\u001b[0;32m      1\u001b[0m \u001b[1;31m#Calling a function without argument but expects one\u001b[0m\u001b[1;33m\u001b[0m\u001b[1;33m\u001b[0m\u001b[1;33m\u001b[0m\u001b[0m\n\u001b[1;32m----> 2\u001b[1;33m \u001b[0mwelcomeFalano\u001b[0m\u001b[1;33m(\u001b[0m\u001b[1;33m)\u001b[0m\u001b[1;33m\u001b[0m\u001b[1;33m\u001b[0m\u001b[0m\n\u001b[0m",
      "\u001b[1;31mTypeError\u001b[0m: welcomeFalano() missing 1 required positional argument: 'fname'"
     ]
    }
   ],
   "source": [
    "#Calling a function without argument but expects one\n",
    "welcomeFalano()"
   ]
  },
  {
   "cell_type": "code",
   "execution_count": 11,
   "metadata": {},
   "outputs": [],
   "source": [
    "# Unknown number of arguments\n",
    "# Also known as arbitary arguments *arguments\n",
    "# here the argument will be a tuple\n",
    "def showMyInfo(*info):\n",
    "    for i in info:\n",
    "        print(i)"
   ]
  },
  {
   "cell_type": "code",
   "execution_count": 12,
   "metadata": {},
   "outputs": [
    {
     "name": "stdout",
     "output_type": "stream",
     "text": [
      "Falano\n",
      "Manche\n",
      "Male\n",
      "Nepal\n",
      "Nepali\n"
     ]
    }
   ],
   "source": [
    "showMyInfo(\"Falano\",\"Manche\",\"Male\",\"Nepal\",\"Nepali\")"
   ]
  },
  {
   "cell_type": "raw",
   "metadata": {},
   "source": [
    "# Keyword Arguments\n",
    "# arguments when passed by specifying the key\n",
    "def printFullName(lname, fname):\n",
    "    print(\"{firstname} {lastname}\".format(firstname=fname, lastname=lname))\n",
    "\n",
    "printFullName(fname=\"Suraj\",lname=\"Shakya\")"
   ]
  },
  {
   "cell_type": "code",
   "execution_count": 18,
   "metadata": {},
   "outputs": [
    {
     "name": "stdout",
     "output_type": "stream",
     "text": [
      "Suraj Shakya "
     ]
    }
   ],
   "source": [
    "# Arbitary Keyword arguments\n",
    "# If number of keyword arguments that will be passed is unknown\n",
    "# here the argument will be of dictionary type\n",
    "def printFullName(**name):\n",
    "    for i,v in name.items():\n",
    "        print(\"{n}\".format(n=v),end=\" \")\n",
    "\n",
    "printFullName(fname=\"Suraj\",lname=\"Shakya\")"
   ]
  }
 ],
 "metadata": {
  "kernelspec": {
   "display_name": "Python 3",
   "language": "python",
   "name": "python3"
  },
  "language_info": {
   "codemirror_mode": {
    "name": "ipython",
    "version": 3
   },
   "file_extension": ".py",
   "mimetype": "text/x-python",
   "name": "python",
   "nbconvert_exporter": "python",
   "pygments_lexer": "ipython3",
   "version": "3.8.2"
  }
 },
 "nbformat": 4,
 "nbformat_minor": 4
}
