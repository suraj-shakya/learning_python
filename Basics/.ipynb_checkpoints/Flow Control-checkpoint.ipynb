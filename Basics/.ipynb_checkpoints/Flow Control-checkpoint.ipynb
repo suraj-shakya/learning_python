{
 "cells": [
  {
   "cell_type": "markdown",
   "metadata": {},
   "source": [
    "# Control the Flow \n",
    "\n",
    "## Control Flow Statements : \n",
    "- ```if```\n",
    "- ```for```\n",
    "- ```while```"
   ]
  },
  {
   "cell_type": "code",
   "execution_count": 1,
   "metadata": {},
   "outputs": [
    {
     "name": "stdout",
     "output_type": "stream",
     "text": [
      "You are correct\n"
     ]
    }
   ],
   "source": [
    "if True:\n",
    "    print(\"You are correct\")\n",
    "    "
   ]
  },
  {
   "cell_type": "code",
   "execution_count": 2,
   "metadata": {},
   "outputs": [
    {
     "name": "stdout",
     "output_type": "stream",
     "text": [
      "Enter your vehicle number: 1235\n",
      "1235 is an odd number\n"
     ]
    }
   ],
   "source": [
    "#Check if an integers is even or odd\n",
    "x = int(input(\"Enter your vehicle number: \"))\n",
    "\n",
    "x = int(x)\n",
    "if x==0:\n",
    "    print('{num} is a zero'.format(num=x))\n",
    "elif x % 2 == 0:\n",
    "    print('{num} is an even number'.format(num=x))\n",
    "else:\n",
    "    print('{num} is an odd number'.format(num=x))"
   ]
  },
  {
   "cell_type": "code",
   "execution_count": 10,
   "metadata": {},
   "outputs": [
    {
     "name": "stdout",
     "output_type": "stream",
     "text": [
      "Enter a number to less than 10 to make it work: 1\n",
      "It's working\n"
     ]
    }
   ],
   "source": [
    "# Tertiary operator or Conditional Expressions\n",
    "x = int(input(\"Enter a number to less than 10 to make it work: \"))\n",
    "print(\"It's working\") if x <10 else print(\"Number Greater than equals to 10 :( \")"
   ]
  },
  {
   "cell_type": "code",
   "execution_count": 11,
   "metadata": {},
   "outputs": [],
   "source": [
    "#Pass Statement \n",
    "# to be implemented later\n",
    "if 1<2:\n",
    "    pass"
   ]
  },
  {
   "cell_type": "code",
   "execution_count": 12,
   "metadata": {},
   "outputs": [
    {
     "name": "stdout",
     "output_type": "stream",
     "text": [
      "0\n",
      "1\n",
      "2\n",
      "3\n",
      "4\n",
      "5\n",
      "6\n",
      "7\n",
      "8\n",
      "9\n"
     ]
    }
   ],
   "source": [
    "# For loop\n",
    "for i in range(0,10):\n",
    "    print(i)"
   ]
  },
  {
   "cell_type": "code",
   "execution_count": 13,
   "metadata": {},
   "outputs": [
    {
     "name": "stdout",
     "output_type": "stream",
     "text": [
      "0\n",
      "5\n",
      "10\n",
      "15\n",
      "20\n",
      "25\n",
      "30\n",
      "35\n",
      "40\n",
      "45\n",
      "50\n",
      "55\n",
      "60\n",
      "65\n",
      "70\n",
      "75\n",
      "80\n",
      "85\n",
      "90\n",
      "95\n"
     ]
    }
   ],
   "source": [
    "for i in range(0,100,5):\n",
    "    print(i)"
   ]
  },
  {
   "cell_type": "code",
   "execution_count": 14,
   "metadata": {},
   "outputs": [
    {
     "name": "stdout",
     "output_type": "stream",
     "text": [
      "Big Hero 6\n",
      "Bala\n",
      "Avatar\n",
      "Mission Impossible\n",
      "Mulan\n",
      "Kanchana\n"
     ]
    }
   ],
   "source": [
    "movies = [\"Big Hero 6\",\"Bala\",\"Avatar\",\"Mission Impossible\",\"Mulan\",\"Kanchana\"]\n",
    "for movie in movies:\n",
    "    print(movie)"
   ]
  },
  {
   "cell_type": "code",
   "execution_count": 15,
   "metadata": {},
   "outputs": [
    {
     "name": "stdout",
     "output_type": "stream",
     "text": [
      "Big Hero 6\n",
      "Bala\n",
      "let's watch Avatar\n"
     ]
    }
   ],
   "source": [
    "#let's break the loop\n",
    "for movie in movies: \n",
    "    \n",
    "    if movie == \"Avatar\":\n",
    "        print(\"let's watch {movie}\".format(movie=movie))\n",
    "        break\n",
    "    print(movie)"
   ]
  },
  {
   "cell_type": "code",
   "execution_count": 16,
   "metadata": {},
   "outputs": [
    {
     "name": "stdout",
     "output_type": "stream",
     "text": [
      "Big Hero 6\n",
      "Bala\n",
      "I have watched this Avatar\n",
      "Mission Impossible\n",
      "Mulan\n",
      "Kanchana\n"
     ]
    }
   ],
   "source": [
    "#skip an item\n",
    "for movie in movies: \n",
    "    if movie == \"Avatar\":\n",
    "        print(\"I have watched this {movie}\".format(movie=movie))\n",
    "        continue\n",
    "    print(movie)"
   ]
  },
  {
   "cell_type": "code",
   "execution_count": 17,
   "metadata": {},
   "outputs": [
    {
     "name": "stdout",
     "output_type": "stream",
     "text": [
      "Big Hero 6\n",
      "Bala\n",
      "Avatar\n",
      "Mission Impossible\n",
      "Mulan\n",
      "Kanchana\n",
      "you are out of movies\n"
     ]
    }
   ],
   "source": [
    "#else in the for loop\n",
    "for movie in movies:\n",
    "    print(movie)\n",
    "else:\n",
    "    print(\"you are out of movies\")"
   ]
  },
  {
   "cell_type": "code",
   "execution_count": 21,
   "metadata": {},
   "outputs": [
    {
     "name": "stdout",
     "output_type": "stream",
     "text": [
      "1\n",
      "2\n",
      "3\n",
      "4\n",
      "5\n",
      "6\n",
      "7\n",
      "8\n",
      "9\n",
      "10\n",
      "completed\n"
     ]
    }
   ],
   "source": [
    "# while loop\n",
    "i = 1\n",
    "while i < 11:\n",
    "      print(i)\n",
    "      i += 1\n",
    "else:\n",
    "    print(\"completed\")"
   ]
  }
 ],
 "metadata": {
  "kernelspec": {
   "display_name": "Python 3",
   "language": "python",
   "name": "python3"
  },
  "language_info": {
   "codemirror_mode": {
    "name": "ipython",
    "version": 3
   },
   "file_extension": ".py",
   "mimetype": "text/x-python",
   "name": "python",
   "nbconvert_exporter": "python",
   "pygments_lexer": "ipython3",
   "version": "3.8.2"
  }
 },
 "nbformat": 4,
 "nbformat_minor": 4
}
