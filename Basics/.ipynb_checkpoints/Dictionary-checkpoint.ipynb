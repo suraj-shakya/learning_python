{
 "cells": [
  {
   "cell_type": "markdown",
   "metadata": {},
   "source": [
    "# Dictionary\n",
    "- unordered\n",
    "- mutable\n",
    "- define with in the curly braces ({})\n",
    "- they have keys and values pairs like associative array\n"
   ]
  },
  {
   "cell_type": "code",
   "execution_count": 1,
   "metadata": {},
   "outputs": [
    {
     "name": "stdout",
     "output_type": "stream",
     "text": [
      "<class 'dict'>\n",
      "{'name': 'falano!', 'specialization': 'Software Engineer', 'hobbies': ['Flirting', 'Cycling', 'River Rafting', 'Trekking', 'PubG', 'Gossiping'], 'contact numbers': {'mobile no ': '98123345678', 'residential ': '012345678'}}\n"
     ]
    }
   ],
   "source": [
    "dt = {\n",
    "        'name':'falano!',\n",
    "        'specialization' : 'Software Engineer',\n",
    "        'hobbies' : ['Flirting','Cycling','River Rafting','Trekking','PubG','Gossiping'],\n",
    "        'contact numbers':{'mobile no ':'98123345678','residential ': '012345678'},\n",
    "     }\n",
    "print(type(dt))\n",
    "\n",
    "print(dt)\n"
   ]
  },
  {
   "cell_type": "code",
   "execution_count": 3,
   "metadata": {},
   "outputs": [
    {
     "name": "stdout",
     "output_type": "stream",
     "text": [
      "falano!\n",
      "['Flirting', 'Cycling', 'River Rafting', 'Trekking', 'PubG', 'Gossiping']\n",
      "Gossiping\n",
      "98123345678\n"
     ]
    }
   ],
   "source": [
    "# Accessing the element in dictionary\n",
    "print(dt['name'])\n",
    "print(dt['hobbies'])\n",
    "print(dt['hobbies'][-1])\n",
    "print(dt['contact numbers']['mobile no '])"
   ]
  },
  {
   "cell_type": "code",
   "execution_count": 7,
   "metadata": {},
   "outputs": [
    {
     "data": {
      "text/plain": [
       "dict_keys(['name', 'specialization', 'hobbies', 'contact numbers'])"
      ]
     },
     "execution_count": 7,
     "metadata": {},
     "output_type": "execute_result"
    }
   ],
   "source": [
    "dt.keys()"
   ]
  },
  {
   "cell_type": "code",
   "execution_count": 5,
   "metadata": {},
   "outputs": [
    {
     "data": {
      "text/plain": [
       "dict_values(['falano!', 'Software Engineer', ['Flirting', 'Cycling', 'River Rafting', 'Trekking', 'PubG', 'Gossiping'], {'mobile no ': '98123345678', 'residential ': '012345678'}])"
      ]
     },
     "execution_count": 5,
     "metadata": {},
     "output_type": "execute_result"
    }
   ],
   "source": [
    "dt.values()"
   ]
  },
  {
   "cell_type": "code",
   "execution_count": 8,
   "metadata": {},
   "outputs": [
    {
     "data": {
      "text/plain": [
       "dict_items([('name', 'falano!'), ('specialization', 'Software Engineer'), ('hobbies', ['Flirting', 'Cycling', 'River Rafting', 'Trekking', 'PubG', 'Gossiping']), ('contact numbers', {'mobile no ': '98123345678', 'residential ': '012345678'})])"
      ]
     },
     "execution_count": 8,
     "metadata": {},
     "output_type": "execute_result"
    }
   ],
   "source": [
    "dt.items()"
   ]
  },
  {
   "cell_type": "code",
   "execution_count": 15,
   "metadata": {},
   "outputs": [
    {
     "name": "stdout",
     "output_type": "stream",
     "text": [
      "name => falano!\n",
      "specialization => Software Engineer\n",
      "hobbies => ['Painting', 'Singing', 'Listening to Podcast', 'Sports', 'PubG']\n",
      "contact numbers => {'mobile no ': '98123345678', 'residential ': '012345678'}\n"
     ]
    }
   ],
   "source": [
    "for k,v in dt.items():\n",
    "    print(\"{key} => {value}\".format(key=k, value = v))"
   ]
  },
  {
   "cell_type": "code",
   "execution_count": 16,
   "metadata": {},
   "outputs": [
    {
     "data": {
      "text/plain": [
       "['__class__',\n",
       " '__contains__',\n",
       " '__delattr__',\n",
       " '__delitem__',\n",
       " '__dir__',\n",
       " '__doc__',\n",
       " '__eq__',\n",
       " '__format__',\n",
       " '__ge__',\n",
       " '__getattribute__',\n",
       " '__getitem__',\n",
       " '__gt__',\n",
       " '__hash__',\n",
       " '__init__',\n",
       " '__init_subclass__',\n",
       " '__iter__',\n",
       " '__le__',\n",
       " '__len__',\n",
       " '__lt__',\n",
       " '__ne__',\n",
       " '__new__',\n",
       " '__reduce__',\n",
       " '__reduce_ex__',\n",
       " '__repr__',\n",
       " '__reversed__',\n",
       " '__setattr__',\n",
       " '__setitem__',\n",
       " '__sizeof__',\n",
       " '__str__',\n",
       " '__subclasshook__',\n",
       " 'clear',\n",
       " 'copy',\n",
       " 'fromkeys',\n",
       " 'get',\n",
       " 'items',\n",
       " 'keys',\n",
       " 'pop',\n",
       " 'popitem',\n",
       " 'setdefault',\n",
       " 'update',\n",
       " 'values']"
      ]
     },
     "execution_count": 16,
     "metadata": {},
     "output_type": "execute_result"
    }
   ],
   "source": [
    "dir(dt)"
   ]
  },
  {
   "cell_type": "code",
   "execution_count": 17,
   "metadata": {},
   "outputs": [
    {
     "name": "stdout",
     "output_type": "stream",
     "text": [
      "Help on built-in function items:\n",
      "\n",
      "items(...) method of builtins.dict instance\n",
      "    D.items() -> a set-like object providing a view on D's items\n",
      "\n"
     ]
    }
   ],
   "source": [
    "help(dt.items)"
   ]
  }
 ],
 "metadata": {
  "kernelspec": {
   "display_name": "Python 3",
   "language": "python",
   "name": "python3"
  },
  "language_info": {
   "codemirror_mode": {
    "name": "ipython",
    "version": 3
   },
   "file_extension": ".py",
   "mimetype": "text/x-python",
   "name": "python",
   "nbconvert_exporter": "python",
   "pygments_lexer": "ipython3",
   "version": "3.8.2"
  }
 },
 "nbformat": 4,
 "nbformat_minor": 4
}
