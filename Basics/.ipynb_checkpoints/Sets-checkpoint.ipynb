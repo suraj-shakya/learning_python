{
 "cells": [
  {
   "cell_type": "markdown",
   "metadata": {},
   "source": [
    "# Sets\n",
    "- Collection data type\n",
    "- **unordered**\n",
    "- unindexed\n",
    "- defined with the curly braces like dictionary but without key value pair"
   ]
  },
  {
   "cell_type": "code",
   "execution_count": 7,
   "metadata": {},
   "outputs": [
    {
     "name": "stdout",
     "output_type": "stream",
     "text": [
      "{'Oppo', 'HTC', 'LG', 'Samsung', 'Nokia', 'One Plus', 'Redme', 'Motorolla', 'IPhone'}\n",
      "<class 'set'>\n"
     ]
    }
   ],
   "source": [
    "MobileBrands = {\"Samsung\",\"One Plus\",\"Apple\",\"HTC\",\"Nokia\",\"Redme\",\"Oppo\",\"Motorolla\",\"LG\"}\n",
    "print(MobileBrands)\n",
    "print(type(MobileBrands))"
   ]
  },
  {
   "cell_type": "markdown",
   "metadata": {},
   "source": [
    "## Item Access\n",
    "\n",
    "- Accessed via for loops\n"
   ]
  },
  {
   "cell_type": "code",
   "execution_count": 8,
   "metadata": {},
   "outputs": [
    {
     "name": "stdout",
     "output_type": "stream",
     "text": [
      "Oppo\n",
      "HTC\n",
      "LG\n",
      "Samsung\n",
      "Nokia\n",
      "One Plus\n",
      "Redme\n",
      "Motorolla\n",
      "IPhone\n"
     ]
    }
   ],
   "source": [
    "for brand in MobileBrands:\n",
    "    print(brand)"
   ]
  },
  {
   "cell_type": "markdown",
   "metadata": {},
   "source": [
    "## Changing the value of existing items is not possible but, we can add new items\n"
   ]
  },
  {
   "cell_type": "code",
   "execution_count": 9,
   "metadata": {},
   "outputs": [
    {
     "name": "stdout",
     "output_type": "stream",
     "text": [
      "{'Oppo', 'HTC', 'LG', 'Samsung', 'Nokia', 'Asus', 'One Plus', 'Huwawei', 'Redme', 'Motorolla', 'IPhone'}\n"
     ]
    }
   ],
   "source": [
    "#MobileBrands.add(\"Google\")\n",
    "MobileBrands.update([\"Huwawei\",\"Asus\"])\n",
    "\n",
    "print(MobileBrands)"
   ]
  },
  {
   "cell_type": "code",
   "execution_count": 10,
   "metadata": {},
   "outputs": [
    {
     "name": "stdout",
     "output_type": "stream",
     "text": [
      "{'Oppo', 'HTC', 'LG', 'Samsung', 'Nokia', 'One Plus', 'Redme', 'Motorolla', 'IPhone'}\n"
     ]
    }
   ],
   "source": [
    "## Remove an item\n",
    "MobileBrands.remove(\"Asus\")    # raise error when item not found\n",
    "MobileBrands.discard(\"Huwawei\")#does not raise error when item not found\n",
    "print(MobileBrands)"
   ]
  },
  {
   "cell_type": "code",
   "execution_count": 5,
   "metadata": {},
   "outputs": [
    {
     "name": "stdout",
     "output_type": "stream",
     "text": [
      "set()\n"
     ]
    }
   ],
   "source": [
    "#Clear and remove\n",
    "MobileBrands.clear()\n",
    "print(MobileBrands)\n",
    "del MobileBrands\n"
   ]
  },
  {
   "cell_type": "code",
   "execution_count": 17,
   "metadata": {},
   "outputs": [
    {
     "name": "stdout",
     "output_type": "stream",
     "text": [
      "{'Oppo', 'Dell', 'HTC', 'LG', 'Samsung', 'Apple', 'Nokia', 'Lenovo', 'One Plus', 'Redme', 'Motorolla'}\n"
     ]
    }
   ],
   "source": [
    "# Set Union\n",
    "# this can be done via union function or update function as above\n",
    "MobileBrands = {\"Samsung\",\"One Plus\",\"Apple\",\"HTC\",\"Nokia\",\"Redme\",\"Oppo\",\"Motorolla\",\"LG\"}\n",
    "LaptopBrands = {\"Samsung\",\"Apple\",\"LG\",\"Lenovo\",\"Dell\"}\n",
    "\n",
    "ElectronicBrands = MobileBrands.union(LaptopBrands)\n",
    "print(ElectronicBrands)\n",
    "#Note the distinct items only"
   ]
  },
  {
   "cell_type": "code",
   "execution_count": 19,
   "metadata": {},
   "outputs": [
    {
     "name": "stdout",
     "output_type": "stream",
     "text": [
      "{'Samsung', 'Apple', 'LG'}\n"
     ]
    }
   ],
   "source": [
    "print(MobileBrands.intersection(LaptopBrands))"
   ]
  },
  {
   "cell_type": "code",
   "execution_count": 20,
   "metadata": {},
   "outputs": [
    {
     "name": "stdout",
     "output_type": "stream",
     "text": [
      "{'Oppo', 'HTC', 'Nokia', 'One Plus', 'Redme', 'Motorolla'}\n"
     ]
    }
   ],
   "source": [
    "print(MobileBrands.difference(LaptopBrands))"
   ]
  },
  {
   "cell_type": "code",
   "execution_count": 21,
   "metadata": {},
   "outputs": [
    {
     "name": "stdout",
     "output_type": "stream",
     "text": [
      "False\n"
     ]
    }
   ],
   "source": [
    "print(MobileBrands.issubset(LaptopBrands))"
   ]
  },
  {
   "cell_type": "code",
   "execution_count": 22,
   "metadata": {},
   "outputs": [
    {
     "name": "stdout",
     "output_type": "stream",
     "text": [
      "False\n"
     ]
    }
   ],
   "source": [
    "print(MobileBrands.issuperset(LaptopBrands))"
   ]
  },
  {
   "cell_type": "code",
   "execution_count": 23,
   "metadata": {},
   "outputs": [
    {
     "name": "stdout",
     "output_type": "stream",
     "text": [
      "False\n"
     ]
    }
   ],
   "source": [
    "print(MobileBrands.isdisjoint(LaptopBrands))"
   ]
  },
  {
   "cell_type": "raw",
   "metadata": {},
   "source": [
    "dir({})"
   ]
  },
  {
   "cell_type": "markdown",
   "metadata": {},
   "source": [
    "## Frozenset() function\n",
    "The frozenset() function returns an unchangeable frozenset object (which is like a set object, only unchangeable)."
   ]
  },
  {
   "cell_type": "code",
   "execution_count": 26,
   "metadata": {},
   "outputs": [
    {
     "name": "stdout",
     "output_type": "stream",
     "text": [
      "frozenset({'Oppo', 'HTC', 'LG', 'Samsung', 'Apple', 'Nokia', 'One Plus', 'Redme', 'Motorolla'})\n"
     ]
    },
    {
     "data": {
      "text/plain": [
       "frozenset"
      ]
     },
     "execution_count": 26,
     "metadata": {},
     "output_type": "execute_result"
    }
   ],
   "source": [
    "frozenMobileBrands = frozenset(MobileBrands)\n",
    "print(frozenMobileBrands)\n",
    "type(frozenMobileBrands)"
   ]
  },
  {
   "cell_type": "code",
   "execution_count": 28,
   "metadata": {},
   "outputs": [
    {
     "data": {
      "text/plain": [
       "['__and__',\n",
       " '__class__',\n",
       " '__contains__',\n",
       " '__delattr__',\n",
       " '__dir__',\n",
       " '__doc__',\n",
       " '__eq__',\n",
       " '__format__',\n",
       " '__ge__',\n",
       " '__getattribute__',\n",
       " '__gt__',\n",
       " '__hash__',\n",
       " '__init__',\n",
       " '__init_subclass__',\n",
       " '__iter__',\n",
       " '__le__',\n",
       " '__len__',\n",
       " '__lt__',\n",
       " '__ne__',\n",
       " '__new__',\n",
       " '__or__',\n",
       " '__rand__',\n",
       " '__reduce__',\n",
       " '__reduce_ex__',\n",
       " '__repr__',\n",
       " '__ror__',\n",
       " '__rsub__',\n",
       " '__rxor__',\n",
       " '__setattr__',\n",
       " '__sizeof__',\n",
       " '__str__',\n",
       " '__sub__',\n",
       " '__subclasshook__',\n",
       " '__xor__',\n",
       " 'copy',\n",
       " 'difference',\n",
       " 'intersection',\n",
       " 'isdisjoint',\n",
       " 'issubset',\n",
       " 'issuperset',\n",
       " 'symmetric_difference',\n",
       " 'union']"
      ]
     },
     "execution_count": 28,
     "metadata": {},
     "output_type": "execute_result"
    }
   ],
   "source": [
    "dir(frozenMobileBrands)"
   ]
  }
 ],
 "metadata": {
  "kernelspec": {
   "display_name": "Python 3",
   "language": "python",
   "name": "python3"
  },
  "language_info": {
   "codemirror_mode": {
    "name": "ipython",
    "version": 3
   },
   "file_extension": ".py",
   "mimetype": "text/x-python",
   "name": "python",
   "nbconvert_exporter": "python",
   "pygments_lexer": "ipython3",
   "version": "3.8.2"
  }
 },
 "nbformat": 4,
 "nbformat_minor": 4
}
