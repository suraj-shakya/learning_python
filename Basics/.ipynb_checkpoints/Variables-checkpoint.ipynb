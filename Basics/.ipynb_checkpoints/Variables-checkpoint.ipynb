{
 "cells": [
  {
   "cell_type": "markdown",
   "metadata": {},
   "source": [
    "  # Variables\n",
    "  \n",
    "  ## What are variables ?\n",
    "  \n",
    "  Variables are containers for storing data values.\n",
    "  Unlike other programming languages, Python has no command for declaring a variable.\n",
    "  A variable is created the moment you first assign a value to it."
   ]
  },
  {
   "cell_type": "code",
   "execution_count": 1,
   "metadata": {},
   "outputs": [
    {
     "name": "stdout",
     "output_type": "stream",
     "text": [
      "Smriti\n",
      "25\n"
     ]
    }
   ],
   "source": [
    "# Example to create variable\n",
    "firstname = \"Smriti\"\n",
    "age = 25 \n",
    "\n",
    "print(firstname)\n",
    "print(age)"
   ]
  },
  {
   "cell_type": "markdown",
   "metadata": {},
   "source": [
    "**Please note that while creating variable no data type is defined. So to check the variable type we can use the syntax as below**\n"
   ]
  },
  {
   "cell_type": "code",
   "execution_count": 5,
   "metadata": {},
   "outputs": [
    {
     "name": "stdout",
     "output_type": "stream",
     "text": [
      "data type of firstname is  <class 'str'>  another argument\n",
      "data type of age is  <class 'int'>\n"
     ]
    }
   ],
   "source": [
    "print('data type of firstname is ',type(firstname),' another argument')\n",
    "print('data type of age is ', type(age))"
   ]
  },
  {
   "cell_type": "markdown",
   "metadata": {},
   "source": [
    "## Variable Naming Convention\n",
    "\n",
    "A variable can have a short name (like x and y) or a more descriptive name (age, firstname, last_name). Rules for Python variables:\n",
    "- A variable name must start with a letter or the underscore character  \n",
    "```\n",
    " age\n",
    " _age\n",
    " age1\n",
    " age_1\n",
    "```\n",
    "- A variable name cannot start with a number  \n",
    "` 2age ` this is invalid variable name\n",
    "- A variable name can only contain alpha-numeric characters and underscores (A-z, 0-9, and _ )\n",
    "- Variable names are **case-sensitive** (age, Age and AGE are three different variables)\n"
   ]
  },
  {
   "cell_type": "code",
   "execution_count": 27,
   "metadata": {},
   "outputs": [],
   "source": [
    "#Legal variable names:\n",
    "age = 22\n",
    "age_1 = 23\n",
    "_age = 24\n",
    "aGe = 25\n",
    "AGE = 26\n",
    "age1 = 27\n"
   ]
  },
  {
   "cell_type": "code",
   "execution_count": 28,
   "metadata": {},
   "outputs": [
    {
     "ename": "SyntaxError",
     "evalue": "invalid syntax (<ipython-input-28-df510b7158ef>, line 2)",
     "output_type": "error",
     "traceback": [
      "\u001b[1;36m  File \u001b[1;32m\"<ipython-input-28-df510b7158ef>\"\u001b[1;36m, line \u001b[1;32m2\u001b[0m\n\u001b[1;33m    1age = 28\u001b[0m\n\u001b[1;37m     ^\u001b[0m\n\u001b[1;31mSyntaxError\u001b[0m\u001b[1;31m:\u001b[0m invalid syntax\n"
     ]
    }
   ],
   "source": [
    "#Illegal variable names:\n",
    "1age = 28\n",
    "age-1 = 29\n",
    "age 1 = 30"
   ]
  },
  {
   "cell_type": "markdown",
   "metadata": {},
   "source": [
    "## Assign Value to Multiple Variables\n",
    "\n",
    "Python allows you to assign values to multiple variables in one line:"
   ]
  },
  {
   "cell_type": "code",
   "execution_count": 3,
   "metadata": {},
   "outputs": [
    {
     "name": "stdout",
     "output_type": "stream",
     "text": [
      "Nirmal\n",
      "Maharjan\n",
      "M\n",
      "25\n",
      " \n",
      "Print multiple variables in one print function\n",
      "Nirmal Maharjan M 25\n",
      " \n",
      "Pass ' '(space) as a argument for end parameter\n",
      "Nirmal Maharjan M 25  \n",
      " \n",
      "Using string concatenation\n",
      "Nirmal Maharjan M 25\n"
     ]
    }
   ],
   "source": [
    "firstname, lastname, gender, age = \"Nirmal\", \"Maharjan\", \"M\", 25\n",
    "print(firstname)\n",
    "print(lastname)\n",
    "print(gender)\n",
    "print(age)\n",
    "\n",
    "# just for separation\n",
    "print(\" \")\n",
    "\n",
    "# print all the variables at once\n",
    "print(\"Print multiple variables in one print function\")\n",
    "print(firstname, lastname, gender, age)\n",
    "\n",
    "# just for separation\n",
    "print(\" \")\n",
    "\n",
    "# or change the value for end argument\n",
    "print(\"Pass ' '(space) as a argument for end parameter\")\n",
    "print(firstname, end= \" \")\n",
    "print(lastname, end= \" \")\n",
    "print(gender, end= \" \")\n",
    "print(age, end= \" \")\n",
    "\n",
    "# just for separation\n",
    "#print the blank space twice because the earlier print function print in the same line and has no break line\n",
    "print(\" \")\n",
    "print(\" \")\n",
    "\n",
    "#or concatenate the strings as below\n",
    "print(\"Using string concatenation\")\n",
    "print(firstname+\" \"+lastname+\" \"+gender+\" \"+str(age))"
   ]
  },
  {
   "cell_type": "markdown",
   "metadata": {},
   "source": [
    "## And we can assign the same value to multiple variables in one line:\n"
   ]
  },
  {
   "cell_type": "code",
   "execution_count": 4,
   "metadata": {},
   "outputs": [
    {
     "name": "stdout",
     "output_type": "stream",
     "text": [
      "Mikita\n",
      "Mikita\n",
      "Mikita\n"
     ]
    }
   ],
   "source": [
    "firstname = name = fname = \"Mikita\"\n",
    "print(firstname)\n",
    "print(name)\n",
    "print(fname)"
   ]
  },
  {
   "cell_type": "code",
   "execution_count": null,
   "metadata": {},
   "outputs": [],
   "source": []
  }
 ],
 "metadata": {
  "kernelspec": {
   "display_name": "Python 3",
   "language": "python",
   "name": "python3"
  },
  "language_info": {
   "codemirror_mode": {
    "name": "ipython",
    "version": 3
   },
   "file_extension": ".py",
   "mimetype": "text/x-python",
   "name": "python",
   "nbconvert_exporter": "python",
   "pygments_lexer": "ipython3",
   "version": "3.8.2"
  }
 },
 "nbformat": 4,
 "nbformat_minor": 2
}
