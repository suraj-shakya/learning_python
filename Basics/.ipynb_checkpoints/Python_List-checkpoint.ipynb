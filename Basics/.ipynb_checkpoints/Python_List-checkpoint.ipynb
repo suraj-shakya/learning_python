{
 "cells": [
  {
   "cell_type": "markdown",
   "metadata": {},
   "source": [
    "# List in Python\n",
    "\n",
    ">  **List is one of the collection data types than can contain multiple values in an ordered sequence and are mutable unlike String.**  \n",
    "\n",
    "- List is one of the collection data type. \n",
    "- List consists of sequence like tuple and range\n",
    "- Sequence : Meaning they have indices, can also be reffered to as ordered\n",
    "- Mutable : Meaning the values can be updated or modified unlike in the String data type which are immutable\n",
    "- List defined with the square brackets. All the values are comma separated like array in other language and enclosed by square brackets(```[\"value1\",1,[1,2,3,4],True]```)\n",
    "\n",
    "- Here the values can be any values of any data types"
   ]
  },
  {
   "cell_type": "code",
   "execution_count": 116,
   "metadata": {},
   "outputs": [
    {
     "name": "stdout",
     "output_type": "stream",
     "text": [
      "2198372489712\n",
      "2198372523568\n"
     ]
    }
   ],
   "source": [
    "#Strings are immutable\n",
    "stringtype = \"Hello\"\n",
    "stringtype[0]\n",
    "#Python generates id for each object\n",
    "print(id(stringtype))\n",
    "\n",
    "#generates error\n",
    "#stringtype[0] = \"E\"\n",
    "\n",
    "stringtype = \"Hi\"\n",
    "print(id(stringtype))"
   ]
  },
  {
   "cell_type": "code",
   "execution_count": 117,
   "metadata": {},
   "outputs": [
    {
     "name": "stdout",
     "output_type": "stream",
     "text": [
      "['First', True, [1, 2, 3, 4, 5, 6, 7, 8, 9, 0], 'LastValue']\n"
     ]
    }
   ],
   "source": [
    "#Defining a list\n",
    "list_of_datatype_values = [\"First\",True,[1,2,3,4,5,6,7,8,9,0],\"LastValue\"]\n",
    "print(list_of_datatype_values)"
   ]
  },
  {
   "cell_type": "markdown",
   "metadata": {},
   "source": [
    "# Fetch the value \n",
    "\n",
    "To fetch a specific value from a list we can use the index of that item. Please note that the index starts from Zero (0). Index can be positive or negative.\n",
    "- Positive index : Starts from left of the list and starts from 0\n",
    "- Negative index : Starts from right of the list and starts from -1"
   ]
  },
  {
   "cell_type": "code",
   "execution_count": 118,
   "metadata": {},
   "outputs": [
    {
     "name": "stdout",
     "output_type": "stream",
     "text": [
      "Value of 2 index is [1, 2, 3, 4, 5, 6, 7, 8, 9, 0]\n",
      "Data type of the 2nd index is <class 'list'>\n",
      "\n",
      "-1 index value is LastValue\n"
     ]
    }
   ],
   "source": [
    "#get 3rd item i.e of 2nd index\n",
    "print('Value of {index} index is {value}'.format(index=2,value=list_of_datatype_values[2]))\n",
    "print('Data type of the 2nd index is {DataType}'.format(DataType=type(list_of_datatype_values[2])), end=\"\\n\\n\")\n",
    "\n",
    "#Negative Index\n",
    "negative_1_item = list_of_datatype_values[-1]\n",
    "print(\"-1 index value is\",negative_1_item)"
   ]
  },
  {
   "cell_type": "markdown",
   "metadata": {},
   "source": [
    "# List slicing or Range of items from list\n",
    "\n",
    "Like the slicing in the String data type same can be done in the List Data Type.  \n",
    "Here the slicing returns new list of items from the specified range of indexes from a given list.\n",
    "\n",
    "eg:\n",
    "```list_name[<start_index>:<end_index>]```\n",
    "- start_index :  \n",
    "    - this could positive or negative whole number\n",
    "    - values from this position / index will be fetched\n",
    "    - blank start_index will return all the values from the begining\n",
    "- end_index\n",
    "    - could be positive or negative whole number\n",
    "    - **note that the the value of this index is not included**\n",
    "    - value must always be greater than the start_index\n",
    "    - when left blank will return all the values to the end"
   ]
  },
  {
   "cell_type": "code",
   "execution_count": 128,
   "metadata": {},
   "outputs": [
    {
     "name": "stdout",
     "output_type": "stream",
     "text": [
      "['Matey', 'Lale', 'Don']\n",
      "['Lale']\n",
      "['Nirmal BaBa', 'Matey']\n",
      "['Nirmal BaBa', 'Matey', 'Lale', 'Don', 'Hari Bahadur']\n",
      "['Don', 'Hari Bahadur', 'Daa', 'Bhaa']\n",
      "['Hari Bahadur', 'Daa', 'Bhaa']\n",
      "['Nirmal BaBa', 'Matey', 'Lale', 'Don', 'Hari Bahadur', 'Daa', 'Bhaa']\n",
      "['Bhaa']\n"
     ]
    }
   ],
   "source": [
    "#list of known nicknames \n",
    "nick_names = [\"Nirmal BaBa\",\"Matey\",\"Lale\",\"Don\",\"Hari Bahadur\",\"Daa\",\"Bhaa\"]\n",
    "\n",
    "#Get the list of values from 1st index to the 3rd index\n",
    "print(nick_names[1:4])\n",
    "\n",
    "#Negative Indexing\n",
    "print(nick_names[-5:-4])\n",
    "\n",
    "#Blank start_index\n",
    "print(nick_names[:2])\n",
    "\n",
    "#Blank start_index and negative end_index\n",
    "print(nick_names[:-2])\n",
    "\n",
    "\n",
    "#Blank end_index\n",
    "print(nick_names[3:])\n",
    "\n",
    "#Blank end_index and negative start_index\n",
    "print(nick_names[-3:])\n",
    "\n",
    "#both blank\n",
    "print(nick_names[:])\n",
    "\n",
    "#last element\n",
    "print(nick_names[6:])\n"
   ]
  },
  {
   "cell_type": "markdown",
   "metadata": {},
   "source": [
    "# Check for MUTABILITY\n",
    "\n",
    "The Corona Story\n"
   ]
  },
  {
   "cell_type": "code",
   "execution_count": 147,
   "metadata": {},
   "outputs": [
    {
     "name": "stdout",
     "output_type": "stream",
     "text": [
      "['MERS', 'SARS']\n"
     ]
    }
   ],
   "source": [
    "#The corona virus story\n",
    "#list of human corona virus\n",
    "#link : https://en.wikipedia.org/wiki/Coronavirus#Classification\n",
    "human_corona_virus = [\"MERS\",\"SARS\"]\n",
    "print(human_corona_virus)\n"
   ]
  },
  {
   "cell_type": "code",
   "execution_count": 148,
   "metadata": {},
   "outputs": [
    {
     "name": "stdout",
     "output_type": "stream",
     "text": [
      "['MERS-CoV', 'SARS-CoV']\n"
     ]
    }
   ],
   "source": [
    "\n",
    "#But the values has \"-CoV\" at the end, so lets edit\n",
    "human_corona_virus[0] = human_corona_virus[0]+\"-CoV\"\n",
    "human_corona_virus[1] = human_corona_virus[1]+\"-CoV\"\n",
    "print(human_corona_virus)\n"
   ]
  },
  {
   "cell_type": "code",
   "execution_count": 173,
   "metadata": {},
   "outputs": [
    {
     "name": "stdout",
     "output_type": "stream",
     "text": [
      "['MERS-CoV', 'SARS-CoV', 'COVID-19', 'Coronavirus', 'Coronavirus']\n"
     ]
    }
   ],
   "source": [
    "\n",
    "#And in 2019 new Human Corona virus was introduced so we have add this into the list.. but how ?\n",
    "human_corona_virus.append(\"Coronavirus\")\n",
    "print(human_corona_virus)\n"
   ]
  },
  {
   "cell_type": "code",
   "execution_count": 175,
   "metadata": {},
   "outputs": [
    {
     "name": "stdout",
     "output_type": "stream",
     "text": [
      "['MERS-CoV', 'SARS-CoV', 'COVID-19']\n"
     ]
    }
   ],
   "source": [
    "\n",
    "#But the name is generic, as this name was introduced for the first time so lets remove and then add COVID-19 in the second index\n",
    "human_corona_virus.remove(\"Coronavirus\")\n",
    "print(human_corona_virus)\n",
    "human_corona_virus.insert(2,\"COVID-19\")\n",
    "#print(human_corona_virus)\n"
   ]
  },
  {
   "cell_type": "code",
   "execution_count": 151,
   "metadata": {},
   "outputs": [
    {
     "name": "stdout",
     "output_type": "stream",
     "text": [
      "3\n"
     ]
    }
   ],
   "source": [
    "\n",
    "#So now there are three types of human corona viruses\n",
    "print(len(human_corona_virus))\n"
   ]
  },
  {
   "cell_type": "code",
   "execution_count": 152,
   "metadata": {},
   "outputs": [
    {
     "name": "stdout",
     "output_type": "stream",
     "text": [
      "['MERS-CoV', 'SARS-CoV']\n"
     ]
    }
   ],
   "source": [
    "\n",
    "#All of the humans in the world now just want to remove the latest corona virus ( COVID-19) like POP and everyone be normal\n",
    "human_corona_virus.pop()\n",
    "print(human_corona_virus)\n"
   ]
  },
  {
   "cell_type": "code",
   "execution_count": 153,
   "metadata": {},
   "outputs": [
    {
     "name": "stdout",
     "output_type": "stream",
     "text": [
      "['MERS-CoV', 'SARS-CoV', 'COVID-19']\n"
     ]
    }
   ],
   "source": [
    "\n",
    "#But it was just a dream and per scientists and many health authorities it will be there \n",
    "human_corona_virus.append(\"COVID-19\")\n",
    "print(human_corona_virus)\n"
   ]
  },
  {
   "cell_type": "code",
   "execution_count": 156,
   "metadata": {},
   "outputs": [
    {
     "data": {
      "text/plain": [
       "True"
      ]
     },
     "execution_count": 156,
     "metadata": {},
     "output_type": "execute_result"
    }
   ],
   "source": [
    "\n",
    "#Many people are being diagnosed by PCR and RDT method to check for the virus existense\n",
    "\"COVID-19\" in human_corona_virus\n"
   ]
  },
  {
   "cell_type": "code",
   "execution_count": 158,
   "metadata": {},
   "outputs": [
    {
     "name": "stdout",
     "output_type": "stream",
     "text": [
      "Go Home and Stay Safe\n"
     ]
    }
   ],
   "source": [
    "\n",
    "# if true they were kept in quarantine else sent home and stay safe\n",
    "patient_viruses = [\"RHINO\"]\n",
    "if human_corona_virus[2] in patient_viruses:\n",
    "    print(\"QUARANTINE !!!\")\n",
    "else:\n",
    "    print(\"Go Home and Stay Safe\")\n"
   ]
  },
  {
   "cell_type": "code",
   "execution_count": 161,
   "metadata": {},
   "outputs": [
    {
     "name": "stdout",
     "output_type": "stream",
     "text": [
      "['vaccine 1', 'vaccine 2', 'vaccine 3']\n"
     ]
    }
   ],
   "source": [
    "\n",
    "#Many scientists and researchers are studying the COVID-19 virus to create vaccines and many has been developed\n",
    "vaccines = [\"vaccine 1\",\"vaccine 2\",\"vaccine 3\"]\n",
    "print(vaccines)\n"
   ]
  },
  {
   "cell_type": "code",
   "execution_count": 162,
   "metadata": {},
   "outputs": [
    {
     "name": "stdout",
     "output_type": "stream",
     "text": [
      "['vaccine 1', 'vaccine 2', 'vaccine 3', 'Hydrochloroquine']\n"
     ]
    }
   ],
   "source": [
    "\n",
    "#But Trump suggests Hydrochloroquine is effective for now \n",
    "vaccines.append(\"Hydrochloroquine\")\n",
    "print(vaccines)\n"
   ]
  },
  {
   "cell_type": "code",
   "execution_count": 163,
   "metadata": {},
   "outputs": [
    {
     "name": "stdout",
     "output_type": "stream",
     "text": [
      "['vaccine 1', 'vaccine 2', 'vaccine 3']\n"
     ]
    }
   ],
   "source": [
    "\n",
    "#But many says its not the vaccines so they removed it from the vaccine\n",
    "del vaccines[3]\n",
    "print(vaccines)\n"
   ]
  },
  {
   "cell_type": "code",
   "execution_count": 164,
   "metadata": {},
   "outputs": [
    {
     "name": "stdout",
     "output_type": "stream",
     "text": [
      "[]\n"
     ]
    }
   ],
   "source": [
    "\n",
    "#Whole world is looking for vaccines and the test is  on-going. if the test will successfull then the demand will be show high that the list could be empty\n",
    "vaccines.clear()\n",
    "print(vaccines)\n"
   ]
  },
  {
   "cell_type": "code",
   "execution_count": 165,
   "metadata": {},
   "outputs": [
    {
     "ename": "NameError",
     "evalue": "name 'vaccines' is not defined",
     "output_type": "error",
     "traceback": [
      "\u001b[1;31m---------------------------------------------------------------------------\u001b[0m",
      "\u001b[1;31mNameError\u001b[0m                                 Traceback (most recent call last)",
      "\u001b[1;32m<ipython-input-165-5bfa5f8aac6c>\u001b[0m in \u001b[0;36m<module>\u001b[1;34m\u001b[0m\n\u001b[0;32m      1\u001b[0m \u001b[1;31m#but if the test fails then the vaccines could be removed as a whole\u001b[0m\u001b[1;33m\u001b[0m\u001b[1;33m\u001b[0m\u001b[1;33m\u001b[0m\u001b[0m\n\u001b[0;32m      2\u001b[0m \u001b[1;32mdel\u001b[0m \u001b[0mvaccines\u001b[0m\u001b[1;33m\u001b[0m\u001b[1;33m\u001b[0m\u001b[0m\n\u001b[1;32m----> 3\u001b[1;33m \u001b[0mprint\u001b[0m\u001b[1;33m(\u001b[0m\u001b[0mvaccines\u001b[0m\u001b[1;33m)\u001b[0m\u001b[1;33m\u001b[0m\u001b[1;33m\u001b[0m\u001b[0m\n\u001b[0m",
      "\u001b[1;31mNameError\u001b[0m: name 'vaccines' is not defined"
     ]
    }
   ],
   "source": [
    "\n",
    "#but if the test fails then the vaccines could be removed as a whole\n",
    "del vaccines\n",
    "print(vaccines)\n"
   ]
  },
  {
   "cell_type": "code",
   "execution_count": 166,
   "metadata": {},
   "outputs": [
    {
     "name": "stdout",
     "output_type": "stream",
     "text": [
      "['element1', 'element2', 'element3', 'element4']\n",
      "['element1', 'element2', 'element3', 'element4']\n"
     ]
    }
   ],
   "source": [
    "\n",
    "#There is also chance that the chemical formula can be copied from another vaccines\n",
    "vaccine1 = [\"element1\",\"element2\",\"element3\",\"element4\"]\n",
    "print(vaccine1)\n",
    "vaccine2 = vaccine1.copy()\n",
    "print(vaccine2)\n"
   ]
  },
  {
   "cell_type": "code",
   "execution_count": 167,
   "metadata": {},
   "outputs": [
    {
     "name": "stdout",
     "output_type": "stream",
     "text": [
      "['element1', 'element2', 'element3', 'element4', 'element5', 'element6']\n"
     ]
    }
   ],
   "source": [
    "\n",
    "#and add another list of chemicals to create new one\n",
    "vaccine2 = vaccine2 + [\"element5\",\"element6\"]\n",
    "print(vaccine2)\n"
   ]
  },
  {
   "cell_type": "code",
   "execution_count": 89,
   "metadata": {},
   "outputs": [
    {
     "name": "stdout",
     "output_type": "stream",
     "text": [
      "['element1', 'element2', 'element3', 'element4', 'element1', 'element2', 'element3', 'element4', 'element5', 'element6']\n"
     ]
    }
   ],
   "source": [
    "\n",
    "#or join another chemicals to make another vaccine\n",
    "vaccine3 = vaccine1 +vaccine2\n",
    "print(vaccine3)\n",
    "\n"
   ]
  },
  {
   "cell_type": "markdown",
   "metadata": {},
   "source": [
    "# dir() function\n",
    "> Gives the available methods \n",
    "\n"
   ]
  },
  {
   "cell_type": "code",
   "execution_count": 95,
   "metadata": {},
   "outputs": [
    {
     "data": {
      "text/plain": [
       "['__add__',\n",
       " '__class__',\n",
       " '__contains__',\n",
       " '__delattr__',\n",
       " '__delitem__',\n",
       " '__dir__',\n",
       " '__doc__',\n",
       " '__eq__',\n",
       " '__format__',\n",
       " '__ge__',\n",
       " '__getattribute__',\n",
       " '__getitem__',\n",
       " '__gt__',\n",
       " '__hash__',\n",
       " '__iadd__',\n",
       " '__imul__',\n",
       " '__init__',\n",
       " '__init_subclass__',\n",
       " '__iter__',\n",
       " '__le__',\n",
       " '__len__',\n",
       " '__lt__',\n",
       " '__mul__',\n",
       " '__ne__',\n",
       " '__new__',\n",
       " '__reduce__',\n",
       " '__reduce_ex__',\n",
       " '__repr__',\n",
       " '__reversed__',\n",
       " '__rmul__',\n",
       " '__setattr__',\n",
       " '__setitem__',\n",
       " '__sizeof__',\n",
       " '__str__',\n",
       " '__subclasshook__',\n",
       " 'append',\n",
       " 'clear',\n",
       " 'copy',\n",
       " 'count',\n",
       " 'extend',\n",
       " 'index',\n",
       " 'insert',\n",
       " 'pop',\n",
       " 'remove',\n",
       " 'reverse',\n",
       " 'sort']"
      ]
     },
     "execution_count": 95,
     "metadata": {},
     "output_type": "execute_result"
    }
   ],
   "source": [
    "dir(vaccine3)\n"
   ]
  },
  {
   "cell_type": "code",
   "execution_count": 105,
   "metadata": {},
   "outputs": [
    {
     "name": "stdout",
     "output_type": "stream",
     "text": [
      "Help on built-in function sort:\n",
      "\n",
      "sort(*, key=None, reverse=False) method of builtins.list instance\n",
      "    Sort the list in ascending order and return None.\n",
      "    \n",
      "    The sort is in-place (i.e. the list itself is modified) and stable (i.e. the\n",
      "    order of two equal elements is maintained).\n",
      "    \n",
      "    If a key function is given, apply it once to each list item and sort them,\n",
      "    ascending or descending, according to their function values.\n",
      "    \n",
      "    The reverse flag can be set to sort in descending order.\n",
      "\n"
     ]
    },
    {
     "data": {
      "text/plain": [
       "120"
      ]
     },
     "execution_count": 105,
     "metadata": {},
     "output_type": "execute_result"
    }
   ],
   "source": [
    "help(vaccine3.sort)\n",
    "vaccine3.__sizeof__()"
   ]
  },
  {
   "cell_type": "code",
   "execution_count": 171,
   "metadata": {},
   "outputs": [
    {
     "name": "stdout",
     "output_type": "stream",
     "text": [
      "2198372702528\n",
      "2198372511360\n",
      "[1, 2, 3, 4, 5]\n",
      "[1, 2, 3, 4, 5, 'Hello']\n"
     ]
    }
   ],
   "source": [
    "#Reference Type demo\n",
    "list1 = [1,2,3,4,5]\n",
    "list2 = list1.copy()\n",
    "print(id(list1))\n",
    "print(id(list2))\n",
    "list2.append(\"Hello\")\n",
    "print(list1)\n",
    "print(list2)"
   ]
  }
 ],
 "metadata": {
  "kernelspec": {
   "display_name": "Python 3",
   "language": "python",
   "name": "python3"
  },
  "language_info": {
   "codemirror_mode": {
    "name": "ipython",
    "version": 3
   },
   "file_extension": ".py",
   "mimetype": "text/x-python",
   "name": "python",
   "nbconvert_exporter": "python",
   "pygments_lexer": "ipython3",
   "version": "3.8.2"
  }
 },
 "nbformat": 4,
 "nbformat_minor": 4
}
