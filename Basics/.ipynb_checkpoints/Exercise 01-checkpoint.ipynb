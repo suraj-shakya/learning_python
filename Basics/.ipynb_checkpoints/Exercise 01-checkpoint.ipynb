{
 "cells": [
  {
   "cell_type": "markdown",
   "metadata": {},
   "source": [
    "# Exercises 01\n",
    "\n",
    "1. **Upper case each of the word's first letter of**  \n",
    "    ```If the implementation is easy to explain, it may be a good idea.```  \n",
    "   Hints: \n",
    "   - split()\n",
    "   - list indexing\n",
    "   - for loop  \n",
    "   ***Note: There are better ways too.***  \n",
    "2. **Create a dictionary that will give return first 10 multiplication table from 11 to 20.**\n",
    "   - Use will input a number from 11 to 20 \n",
    "   - Display first 10 multiplication table for the provided number\n",
    "   - **dictionary must be used**  \n",
    "   example of dictionary could be :  \n",
    "   ```\n",
    "   multiplication_table = {\n",
    "                           \"2\" : { \n",
    "                                   \"2 X 1\" : 2, \n",
    "                                   \"2 X 2\" : 4,\n",
    "                                   \"2 X 3\" : 6,\n",
    "                                   \"2 X 4\" : 8,\n",
    "                                   \"2 X 5\" : 10,\n",
    "                                   \"2 X 6\" : 12,\n",
    "                                   \"2 X 7\" : 14,\n",
    "                                   \"2 X 8\" : 16,\n",
    "                                   \"2 X 9\" : 18,\n",
    "                                   \"2 X 10\" : 20,\n",
    "                                  },\n",
    "                            \"3\" :{\n",
    "                                   .\n",
    "                                   .\n",
    "                                   .\n",
    "                                 }\n",
    "                          }\n",
    "   ```  \n",
    "   or  \n",
    "   ```\n",
    "   multiplication_table = {\n",
    "                           \"2\" : { \n",
    "                                   \"1\" : 2, \n",
    "                                   \"2\" : 4,\n",
    "                                   \"3\" : 6,\n",
    "                                   \"4\" : 8,\n",
    "                                   \"5\" : 10,\n",
    "                                   \"6\" : 12,\n",
    "                                   \"7\" : 14,\n",
    "                                   \"8\" : 16,\n",
    "                                   \"9\" : 18,\n",
    "                                   \"10\" : 20,\n",
    "                                  },\n",
    "                            \"3\" :{\n",
    "                                   .\n",
    "                                   .\n",
    "                                   .\n",
    "                                 }\n",
    "                          }\n",
    "   ```\n",
    "   and use string format for display\n",
    "\n",
    "3. **Predict expressions**\n",
    "   - Valid Numbers : even numbers < 20\n",
    "   - Operators : +, -\n",
    "   - Result : 10  \n",
    "   Fill in the expression below and output the expression that will result 10: \n",
    "   x1 o1 x2  \n",
    "   where\n",
    "   x1 = first number\n",
    "   x2 = second number\n",
    "   o1 = operator\n",
    "   eg : \n",
    "   20 + 20 = 40 \n",
    "   Hints : \n",
    "   - eval () : \n",
    "    eval(source, globals=None, locals=None, /)\n",
    "     Evaluate the given source in the context of globals and locals.\n",
    "    \n",
    "    The source may be a string representing a Python expression\n",
    "    or a code object as returned by compile().\n",
    "    The globals must be a dictionary and locals can be any mapping,\n",
    "    defaulting to the current globals and locals.\n",
    "    If only globals is given, locals defaults to it.\n",
    "    eg: eval('10+2')\n",
    "   \n",
    "   - Use nested for loops\n",
    "   - use data type list"
   ]
  },
  {
   "cell_type": "code",
   "execution_count": 1,
   "metadata": {
    "scrolled": false
   },
   "outputs": [
    {
     "data": {
      "text/plain": [
       "'If The Implementation Is Easy To Explain, It May Be A Good Idea.'"
      ]
     },
     "execution_count": 1,
     "metadata": {},
     "output_type": "execute_result"
    }
   ],
   "source": [
    "even_numbers = []\n",
    "for i in range(1,21):\n",
    "    if i%2 == 0 : \n",
    "        even_numbers.append(i)\n",
    "\n",
    "#print(even_numbers)\n",
    "\n"
   ]
  }
 ],
 "metadata": {
  "kernelspec": {
   "display_name": "Python 3",
   "language": "python",
   "name": "python3"
  },
  "language_info": {
   "codemirror_mode": {
    "name": "ipython",
    "version": 3
   },
   "file_extension": ".py",
   "mimetype": "text/x-python",
   "name": "python",
   "nbconvert_exporter": "python",
   "pygments_lexer": "ipython3",
   "version": "3.8.2"
  }
 },
 "nbformat": 4,
 "nbformat_minor": 4
}
